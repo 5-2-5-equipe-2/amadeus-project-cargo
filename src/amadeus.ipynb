{
 "cells": [
  {
   "cell_type": "markdown",
   "metadata": {
    "collapsed": false
   },
   "source": [
    "## Get data\n",
    "\n",
    "The first step is to get the data from the API and the PDF.\n",
    "\n",
    "- GET https://af-cargo-api-cargo.azuremicroservices.io/api/compartment to retrieve all compartments\n",
    "- GET https://af-cargo-api-cargo.azuremicroservices.io/api/container to retrieve all container types\n",
    "- GET https://af-cargo-api-cargo.azuremicroservices.io/api/shipment to retrieve all shipments\n",
    "- GET https://af-cargo-api-cargo.azuremicroservices.io/api/luggage to retrieve nb of Luggage and average weight\n",
    "- POST https://af-cargo-api-cargo.azuremicroservices.io/api/submit to submit your answer with an object containing the 5 compartment with their containers and shipments (shipment id list).\n",
    "- POST http://localhost:8081/api/graph to transform the solution into the image (base64 encoded)\n"
   ]
  },
  {
   "cell_type": "markdown",
   "metadata": {},
   "source": [
    "### Load data from the PDF as static values"
   ]
  },
  {
   "cell_type": "code",
   "execution_count": 107,
   "metadata": {},
   "outputs": [],
   "source": [
    "import time\n",
    "from copy import deepcopy\n",
    "\n",
    "DEFAULT_LUGGAGE_CONTAINER = 'AKE'\n",
    "DEFAULT_NB_LUGGAGE_PER_CONTAINER = 38\n",
    "DEFAULT_CONTAINER_TARE_WEIGHT = {\n",
    "    \"PMC\": 120,\n",
    "    \"PAG\": 125,\n",
    "    \"AKE\": 57,\n",
    "}\n",
    "\n",
    "DEFAULT_CONTAINER_MAX_WEIGHT = {\n",
    "    \"PMC\": 5102,\n",
    "    \"PAG\": 4676,\n",
    "    \"AKE\": 1587,\n",
    "}\n",
    "\n",
    "DEFAULT_COMPARTMENTS_MAX_WEIGHT = {\n",
    "    \"FWD\": 32005,\n",
    "    \"AFT\": 25655,\n",
    "}\n",
    "\n",
    "WEIGHT_REDUCTION_FACTOR = 0.9\n",
    "\n",
    "DEFAULT_COMPARTMENTS_MAX_WEIGHT_ = {\n",
    "    1: 16866 * WEIGHT_REDUCTION_FACTOR,\n",
    "    2: 15139 * WEIGHT_REDUCTION_FACTOR,\n",
    "    3: 14700 * WEIGHT_REDUCTION_FACTOR,\n",
    "    4: 10955 * WEIGHT_REDUCTION_FACTOR,\n",
    "    5: 2635 * WEIGHT_REDUCTION_FACTOR\n",
    "}\n",
    "\n",
    "DEFAULT_MAX_CONTAINERS_BY_COMPARTMENT = {\n",
    "    1: [\n",
    "        {\n",
    "            \"PMC\": 3,\n",
    "            \"PAG\": 0,\n",
    "            \"AKE\": 2\n",
    "        },\n",
    "        {\n",
    "            \"PMC\": 2,\n",
    "            \"PAG\": 0,\n",
    "            \"AKE\": 2\n",
    "        },\n",
    "        {\n",
    "            \"PMC\": 1,\n",
    "            \"PAG\": 0,\n",
    "            \"AKE\": 6\n",
    "        },\n",
    "        {\n",
    "            \"PMC\": 0,\n",
    "            \"PAG\": 0,\n",
    "            \"AKE\": 10\n",
    "        }\n",
    "    ],\n",
    "    2: [{\n",
    "        \"PMC\": 3,\n",
    "        \"PAG\": 0,\n",
    "        \"AKE\": 0\n",
    "    },\n",
    "        {\n",
    "            \"PMC\": 2,\n",
    "            \"PAG\": 0,\n",
    "            \"AKE\": 2\n",
    "        },\n",
    "        {\n",
    "            \"PMC\": 1,\n",
    "            \"PAG\": 1,\n",
    "            \"AKE\": 4\n",
    "        },\n",
    "        {\n",
    "            \"PMC\": 0,\n",
    "            \"PAG\": 0,\n",
    "            \"AKE\": 10\n",
    "        }],\n",
    "    3: [{\n",
    "        \"PMC\": 3,\n",
    "        \"PAG\": 0,\n",
    "        \"AKE\": 0\n",
    "    },\n",
    "        {\n",
    "            \"PMC\": 2,\n",
    "            \"PAG\": 0,\n",
    "            \"AKE\": 0\n",
    "        },\n",
    "        {\n",
    "            \"PMC\": 1,\n",
    "            \"PAG\": 1,\n",
    "            \"AKE\": 2\n",
    "        },\n",
    "        {\n",
    "            \"PMC\": 0,\n",
    "            \"PAG\": 0,\n",
    "            \"AKE\": 8\n",
    "        }],\n",
    "    4: [{\n",
    "        \"PMC\": 2,\n",
    "        \"PAG\": 0,\n",
    "        \"AKE\": 0\n",
    "    },\n",
    "        {\n",
    "            \"PMC\": 1,\n",
    "            \"PAG\": 0,\n",
    "            \"AKE\": 4\n",
    "        },\n",
    "        {\n",
    "            \"PMC\": 0,\n",
    "            \"PAG\": 0,\n",
    "            \"AKE\": 8\n",
    "        },\n",
    "    ],\n",
    "}"
   ]
  },
  {
   "cell_type": "markdown",
   "metadata": {},
   "source": [
    "### Create classes for the data\n",
    "To be able to act upon the data. We need to create classes for each type\n"
   ]
  },
  {
   "cell_type": "code",
   "execution_count": 108,
   "metadata": {},
   "outputs": [],
   "source": [
    "\n",
    "class Shipment:\n",
    "    \"\"\"Rectangle Shipment class.\"\"\"\n",
    "\n",
    "    def __init__(self, weight: float, height, width, length, awb, id=1):\n",
    "        self.awb = awb\n",
    "        self.weight = weight\n",
    "        self.awb = awb\n",
    "        self.width = width\n",
    "        self.height = height\n",
    "        self.length = length\n",
    "        self.volume = self.width * self.height * self.length\n",
    "        self.density = self.weight / self.volume\n",
    "        self._id = id\n",
    "\n",
    "    def __str__(self):\n",
    "        return f'Shipment({self._id} , {self.awb}, {self.weight}, {self.width}, {self.height}, {self.length}, {self.volume}, {self.density})'\n",
    "\n",
    "\n",
    "class ContainerType:\n",
    "    container_type_id = 0\n",
    "\n",
    "    def __init__(self, container_type, height, width, length, max_weight, tare_weight):\n",
    "        Container.container_id += 1\n",
    "        self.container_type_id = Container.container_id\n",
    "        self.container_type = container_type\n",
    "        self.height = height\n",
    "        self.width = width\n",
    "        self.length = length\n",
    "        self.volume = self.width * self.height * self.length\n",
    "        self.max_weight = max_weight\n",
    "        self.tare_weight = 0\n",
    "\n",
    "    def __str__(self):\n",
    "        return f'ContainerType({self.container_type}, {self.height}, {self.width}, {self.length})'\n",
    "\n",
    "\n",
    "class Compartment:\n",
    "    def __init__(self, compartment_id, max_weight):\n",
    "        self.compartment_id = compartment_id\n",
    "        # self.height = height\n",
    "        # self.width = width\n",
    "        # self.length = length\n",
    "        self.containers = []\n",
    "        self.max_weight = max_weight\n",
    "        self.weight = 0\n",
    "\n",
    "    def add_container(self, container):\n",
    "        self.containers.append(container)\n",
    "        self.weight += container.weight\n",
    "\n",
    "    def __str__(self):\n",
    "        return f'Compartment({self.compartment_id}, {self.max_weight}, {self.containers})'\n",
    "\n",
    "\n",
    "class Container:\n",
    "    container_id = 0\n",
    "\n",
    "    def __init__(self, container_type: ContainerType, is_required=False):\n",
    "        Container.container_id += 1\n",
    "        self.container_id = Container.container_id\n",
    "        self.container_type = container_type\n",
    "        self.shipments = []\n",
    "        self.occupied_volume = 0\n",
    "        self.weight = container_type.tare_weight\n",
    "        self.occupied_volume_percentage = 0\n",
    "        self.is_required = is_required\n",
    "        self.density = 0\n",
    "\n",
    "    def add_shipment(self, shipment: Shipment):\n",
    "        self.shipments.append(shipment)\n",
    "        self.occupied_volume += shipment.volume\n",
    "        self.weight += shipment.weight\n",
    "        self.occupied_volume_percentage = self.occupied_volume / self.container_type.volume\n",
    "        self.density = self.weight / self.container_type.volume\n",
    "\n",
    "    def full_luggage(self):\n",
    "        return self.occupied_volume_percentage == 1\n",
    "\n",
    "    def __str__(self):\n",
    "        return f'Container({self.container_id} , {self.is_required=}, {self.density=}, {self.container_type=}, {self.weight=}, {self.occupied_volume_percentage=}, {self.occupied_volume=})'\n",
    "\n",
    "\n",
    "class LotOfLuggage:  # class for the luggage, a type of shipment\n",
    "\n",
    "    def __init__(self, first_class_luggage, nb_luggage, avg_weight, container_type, number_of_luggage_by_container):\n",
    "        self.number_of_luggage_per_container = number_of_luggage_by_container\n",
    "        self.avg_weight = avg_weight\n",
    "        self.container_type = container_type\n",
    "        self.containers = LotOfLuggage.split_luggage_into_containers(\n",
    "            nb_luggage - first_class_luggage, avg_weight, container_type, number_of_luggage_by_container\n",
    "        ) + LotOfLuggage.split_luggage_into_containers(\n",
    "            first_class_luggage, avg_weight, container_type, number_of_luggage_by_container\n",
    "        )\n",
    "        self.total_weight = sum([container.weight for container in self.containers])\n",
    "\n",
    "    @staticmethod\n",
    "    def split_luggage_into_containers(nb_luggage, avg_weight, container_type, number_of_luggage_by_container):\n",
    "        number_of_containers = int(nb_luggage / number_of_luggage_by_container)\n",
    "        remaining_luggage = nb_luggage % number_of_luggage_by_container\n",
    "        containers = []\n",
    "        for _ in range(number_of_containers):\n",
    "            container = Container(container_type, is_required=True)\n",
    "            container.weight = avg_weight * number_of_luggage_by_container\n",
    "            container.occupied_volume = container.container_type.volume\n",
    "            container.occupied_volume_percentage = 1\n",
    "            container.density = container.weight / container.container_type.volume\n",
    "            container.nb_luggage = number_of_luggage_by_container\n",
    "            containers.append(container)\n",
    "        if remaining_luggage > 0:\n",
    "            container = Container(container_type, is_required=True)\n",
    "            container.weight = avg_weight * remaining_luggage\n",
    "            container.occupied_volume = container.container_type.volume * (\n",
    "                    remaining_luggage / number_of_luggage_by_container)\n",
    "            container.occupied_volume_percentage = container.occupied_volume / container.container_type.volume\n",
    "            container.density = container.weight / container.container_type.volume\n",
    "            container.nb_luggage = remaining_luggage\n",
    "            containers.append(container)\n",
    "        return containers\n",
    "\n"
   ]
  },
  {
   "cell_type": "markdown",
   "metadata": {},
   "source": [
    "### Create functions to call the API"
   ]
  },
  {
   "cell_type": "code",
   "execution_count": 109,
   "metadata": {},
   "outputs": [],
   "source": [
    "\n",
    "import base64\n",
    "import requests\n",
    "\n",
    "\n",
    "def get_compartments():\n",
    "    \"\"\"Get all compartments from API.\"\"\"\n",
    "    response = requests.get(\"https://af-cargo-api-cargo.azuremicroservices.io/api/compartment\").json()\n",
    "    return [Compartment(compartment[\"compartmentId\"], compartment[\"maxWeight\"]) for compartment in response]\n",
    "\n",
    "\n",
    "def get_container_types():\n",
    "    \"\"\"Get all container types from API.\"\"\"\n",
    "    response = requests.get(\"https://af-cargo-api-cargo.azuremicroservices.io/api/container\")\n",
    "    return [ContainerType(container_type[\"type\"],\n",
    "                          container_type[\"height\"],\n",
    "                          container_type[\"width\"],\n",
    "                          container_type[\"length\"],\n",
    "                          DEFAULT_CONTAINER_MAX_WEIGHT[container_type[\"type\"]],\n",
    "                          DEFAULT_CONTAINER_TARE_WEIGHT[container_type[\"type\"]])\n",
    "            for container_type\n",
    "            in response.json()]\n",
    "\n",
    "\n",
    "def get_shipments():\n",
    "    \"\"\"Get all shipments from API.\"\"\"\n",
    "    response = requests.get(\"https://af-cargo-api-cargo.azuremicroservices.io/api/shipment\")\n",
    "    return [Shipment(shipment[\"weight\"], shipment[\"height\"], shipment[\"width\"], shipment[\"length\"], shipment[\"awb\"],\n",
    "                     shipment[\"id\"]) for\n",
    "            shipment in response.json()]\n",
    "\n",
    "\n",
    "def get_luggage():\n",
    "    \"\"\"Get all shipments from API.\"\"\"\n",
    "    response = requests.get(\"https://af-cargo-api-cargo.azuremicroservices.io/api/luggage\").json()\n",
    "    return LotOfLuggage(response[\"nbFirstClassLuggage\"], response[\"nbLuggage\"], response[\"avgWeight\"],\n",
    "                        list(filter(lambda x: x.container_type == DEFAULT_LUGGAGE_CONTAINER, get_container_types()))[0],\n",
    "                        DEFAULT_NB_LUGGAGE_PER_CONTAINER)\n",
    "\n",
    "\n",
    "def submit_solution(solution):\n",
    "    \"\"\"Submit solution to API.\"\"\"\n",
    "    response = requests.post(\"https://af-cargo-api-cargo.azuremicroservices.io/api/submit\", json=solution)\n",
    "    return response.json()\n",
    "\n",
    "\n",
    "def get_graph(solution):\n",
    "    \"\"\"Get graph from API as a base64 image and write it to output.png\"\"\"\n",
    "    response = requests.post(\"http://localhost:8081/api/graph\", json=solution)\n",
    "\n",
    "    print(response.json())\n",
    "    g = open(\"output.png\", \"wb\")\n",
    "    g.write(base64.b64decode(response.json()[\"graph.png\"]))\n",
    "    g.close()\n",
    "\n"
   ]
  },
  {
   "cell_type": "markdown",
   "metadata": {},
   "source": [
    "## Algorithm"
   ]
  },
  {
   "cell_type": "markdown",
   "metadata": {},
   "source": [
    "### Step 1: The first step of the algorithm is to get the data using the functions created before"
   ]
  },
  {
   "cell_type": "code",
   "execution_count": 110,
   "metadata": {},
   "outputs": [],
   "source": [
    "# Get all shipments\n",
    "shipments = get_shipments()\n",
    "# Get all container types\n",
    "container_types: [ContainerType] = get_container_types()"
   ]
  },
  {
   "cell_type": "markdown",
   "metadata": {},
   "source": [
    "### Step 2: Shipment sorting\n",
    "- To sort the shipments we first put each shipment into the smallest container type it will fit in\n",
    "- Then we sort the shipment by density in each container type"
   ]
  },
  {
   "cell_type": "code",
   "execution_count": 111,
   "metadata": {},
   "outputs": [],
   "source": [
    "from typing import List\n",
    "\n",
    "\n",
    "def sort_shipments(_shipments: List[Shipment], _container_types: List[ContainerType]):\n",
    "    \"\"\"Sort shipments by size and density, to place them more effectively\"\"\"\n",
    "    shipments_dict = {}\n",
    "\n",
    "    _container_types.sort(key=lambda x: x.height * x.width * x.length)\n",
    "    _container_types = list(filter(lambda x: x.container_type != \"PAG\", _container_types))\n",
    "    # test if the shipments fit in the AKE, else, put them in PAG or PMC\n",
    "    for shipment in _shipments:\n",
    "        for container_type in _container_types:\n",
    "            if shipment.width <= container_type.width and shipment.height <= container_type.height and shipment.length <= container_type.length and shipment.weight <= (\n",
    "                    container_type.max_weight - container_type.tare_weight):\n",
    "                if container_type in shipments_dict:\n",
    "                    shipments_dict[container_type].append(shipment)\n",
    "                else:\n",
    "                    shipments_dict[container_type] = [shipment]\n",
    "                break\n",
    "    # sort shipments by density\n",
    "    for container_type in shipments_dict:\n",
    "        shipments_dict[container_type].sort(\n",
    "            key=lambda _shipment: _shipment.density, reverse=True)\n",
    "\n",
    "    return shipments_dict\n",
    "\n",
    "\n",
    "sorted_shipments = sort_shipments(shipments, container_types)"
   ]
  },
  {
   "cell_type": "markdown",
   "metadata": {},
   "source": [
    "### Step 3: Splitting the sorted shipments by containers\n",
    "We now know which shipment will fit in each container type. As we sorted the shipments by density the step before it allows us to have a lot of variation in terms of density as we create the containers"
   ]
  },
  {
   "cell_type": "code",
   "execution_count": 112,
   "metadata": {},
   "outputs": [],
   "source": [
    "VOLUME_MAX_PERCENTAGE = 0.9\n",
    "\n",
    "\n",
    "def split_shipments_by_containers(_shipments: List[Shipment], _container_types: List[ContainerType]):\n",
    "    \"\"\"Split _shipments by container types.\"\"\"\n",
    "    shipments_dict = sort_shipments(_shipments, _container_types)\n",
    "    container_dict = {}\n",
    "\n",
    "    for container_type in shipments_dict:\n",
    "        container_dict[container_type] = []\n",
    "        current_container = Container(container_type)\n",
    "        container_dict[container_type].append(current_container)\n",
    "        for shipment in shipments_dict[container_type]:\n",
    "            if current_container.occupied_volume + shipment.volume > container_type.volume * VOLUME_MAX_PERCENTAGE or current_container.weight + shipment.weight > container_type.max_weight:\n",
    "                current_container = Container(container_type)\n",
    "                current_container.add_shipment(shipment)\n",
    "                container_dict[container_type].append(current_container)\n",
    "            else:\n",
    "                current_container.add_shipment(shipment)\n",
    "    return container_dict\n",
    "\n",
    "\n",
    "containers = split_shipments_by_containers(shipments, container_types)\n"
   ]
  },
  {
   "cell_type": "markdown",
   "metadata": {},
   "source": [
    "### Step 4: Luggage Constraints\n",
    "The luggage is mandatory. So we first check its density to see if we need to put the luggage in FWD or AFT. We also need to extract the heaviest luggage AKE to put in the 5th compartment"
   ]
  },
  {
   "cell_type": "code",
   "execution_count": 113,
   "metadata": {},
   "outputs": [],
   "source": [
    "luggage = get_luggage()\n",
    "luggage_weight = sum(map(lambda x: x.weight, luggage.containers))\n",
    "# get the heaviest luggage container\n",
    "heaviest_luggage_container = max(luggage.containers, key=lambda x: x.weight)\n",
    "# remove the heaviest luggage container from the list\n",
    "luggage.containers.remove(heaviest_luggage_container)\n",
    "\n",
    "# check if the sum of the weight of number of luggage containers of the shipments containers\n",
    "sum_of_the_weight_shipments = sum(map(lambda x: x.weight,\n",
    "                                      sorted(shipments, key=lambda x: x.weight, reverse=True)[\n",
    "                                      :len(luggage.containers) + 1]))\n",
    "luggage_position = \"FWD\"\n",
    "if sum_of_the_weight_shipments < luggage_weight:\n",
    "    luggage_position = \"AFT\"\n",
    "\n",
    "\n",
    "def get_compartment_position(_id):\n",
    "    if _id >= 3:\n",
    "        return \"AFT\"\n",
    "    return \"FWD\"\n"
   ]
  },
  {
   "cell_type": "markdown",
   "metadata": {},
   "source": [
    "#### Removing the possible combination of PMC, PAG, AKE\n",
    "As the luggage is mandatory we need to remove the impossible combinations from the combination list and update the max weight of the compartments"
   ]
  },
  {
   "cell_type": "code",
   "execution_count": 114,
   "metadata": {},
   "outputs": [],
   "source": [
    "container_combinations = deepcopy(DEFAULT_MAX_CONTAINERS_BY_COMPARTMENT)\n",
    "compartments_max_weight = deepcopy(DEFAULT_COMPARTMENTS_MAX_WEIGHT_)\n",
    "luggage_containers_placed = 0\n",
    "\n",
    "container_combinations[1] = [{\n",
    "    \"PMC\": 0,\n",
    "    \"PAG\": 0,\n",
    "    \"AKE\": 10 - len(luggage.containers)\n",
    "}]\n",
    "\n",
    "compartments_max_weight[1] -= luggage.total_weight\n",
    "\n"
   ]
  },
  {
   "cell_type": "markdown",
   "metadata": {},
   "source": [
    "#"
   ]
  },
  {
   "cell_type": "code",
   "execution_count": 115,
   "metadata": {},
   "outputs": [],
   "source": [
    "from typing import Dict\n",
    "from tqdm import tqdm\n",
    "import random\n",
    "\n",
    "\n",
    "def find_best_container_combination(container_dict_copy: Dict[ContainerType, List[Container]],\n",
    "                                    combinations: [Dict[str, int]],\n",
    "                                    weight_target: float,\n",
    "                                    number_of_tries: int):\n",
    "    \"\"\"Find the best container combination for a compartment_position.\"\"\"\n",
    "\n",
    "    def try_combination():\n",
    "        _best_combination = None\n",
    "        _curr_max = float('-inf')\n",
    "        # find calculate the max weight of each combination\n",
    "        for _combination in combinations:\n",
    "            weight = 0\n",
    "            current_containers = {}\n",
    "            for _container_type in container_dict_copy.keys():\n",
    "                if len(container_dict_copy[_container_type]) >= _combination[_container_type.container_type]:\n",
    "                    sampled_containers = random.sample(container_dict_copy[_container_type],\n",
    "                                                       _combination[_container_type.container_type])\n",
    "                else:\n",
    "                    sampled_containers = container_dict_copy[_container_type]\n",
    "                weight += sum([_container.weight for _container in sampled_containers])\n",
    "                current_containers[_container_type] = sampled_containers\n",
    "\n",
    "            current_containers[\"max_weight\"] = weight\n",
    "            if weight_target > current_containers[\"max_weight\"] > _curr_max:\n",
    "                _curr_max = current_containers[\"max_weight\"]\n",
    "                _best_combination = current_containers\n",
    "        return _best_combination\n",
    "\n",
    "    # find the best combination closest to the target without exceeding it\n",
    "    best_combination = None\n",
    "    curr_max = float('-inf')\n",
    "    for _ in range(number_of_tries):\n",
    "        combination = try_combination()\n",
    "        if combination:\n",
    "            if curr_max < combination[\"max_weight\"] <= weight_target:\n",
    "                curr_max = combination[\"max_weight\"]\n",
    "                best_combination = combination\n",
    "    containers_index = {}\n",
    "    for container_type in best_combination:\n",
    "        if container_type != \"max_weight\":\n",
    "            containers_index[container_type] = []\n",
    "            for container in best_combination[container_type]:\n",
    "                containers_index[container_type].append(container_dict_copy[container_type].index(container))\n",
    "    return best_combination, containers_index\n"
   ]
  },
  {
   "cell_type": "code",
   "execution_count": 116,
   "metadata": {},
   "outputs": [
    {
     "name": "stdout",
     "output_type": "stream",
     "text": [
      "AFT weight: 3171.5\n"
     ]
    }
   ],
   "source": [
    "\n",
    "result = find_best_container_combination(containers, container_combinations[1], compartments_max_weight[1],\n",
    "                                         50000)\n",
    "# print(\"Target weight: {}\".format(compartments_max_weight[\"AFT\"]))\n",
    "print(\"AFT weight: {}\".format(result[0]['max_weight']))\n"
   ]
  },
  {
   "cell_type": "code",
   "execution_count": 117,
   "metadata": {},
   "outputs": [],
   "source": [
    "def split_containers_by_compartments(container_dict: Dict[ContainerType, List[Container]],\n",
    "                                     compartments: List[Compartment],\n",
    "                                     container_combinations: [Dict[str, List[Dict[str, int]]]],\n",
    "                                     compartments_max_weight: Dict[int, float],\n",
    "                                     number_of_tries):\n",
    "    \"\"\"Split containers by compartments.\"\"\"\n",
    "    compartments_dict = {}\n",
    "    # sort compartments by compartment_id\n",
    "    compartments.sort(key=lambda x: x.compartment_id, reverse=True)\n",
    "\n",
    "    # # start filling compartments with the highest compartment_id\n",
    "    # copy the container_dict in order to not modify it\n",
    "    container_dict_without_containers = {}\n",
    "    for container_type in container_dict:\n",
    "        container_dict_without_containers[container_type] = []\n",
    "        for i, container in enumerate(container_dict[container_type]):\n",
    "            container_dict_without_containers[container_type].append(container)\n",
    "\n",
    "    containers_combination_1, indexes = find_best_container_combination(container_dict_without_containers,\n",
    "                                                                        container_combinations[4],\n",
    "                                                                        compartments_max_weight[4],\n",
    "                                                                        number_of_tries)\n",
    "    container_dict_without_containers2 = {}\n",
    "    for container_type in container_dict_without_containers:\n",
    "        container_dict_without_containers2[container_type] = []\n",
    "        for i, container in enumerate(container_dict_without_containers[container_type]):\n",
    "            if i not in indexes[container_type]:\n",
    "                container_dict_without_containers2[container_type].append(container)\n",
    "    containers_combination_2, indexes = find_best_container_combination(container_dict_without_containers2,\n",
    "                                                                        container_combinations[3],\n",
    "                                                                        compartments_max_weight[3],\n",
    "                                                                        number_of_tries)\n",
    "    container_dict_without_containers3 = {}\n",
    "    for container_type in container_dict_without_containers2:\n",
    "        container_dict_without_containers3[container_type] = []\n",
    "        for i, container in enumerate(container_dict_without_containers2[container_type]):\n",
    "            if i not in indexes[container_type]:\n",
    "                container_dict_without_containers3[container_type].append(container)\n",
    "    containers_combination_3, indexes = find_best_container_combination(container_dict_without_containers3,\n",
    "                                                                        container_combinations[2],\n",
    "                                                                        compartments_max_weight[2],\n",
    "                                                                        number_of_tries)\n",
    "    container_dict_without_containers4 = {}\n",
    "    for container_type in container_dict_without_containers3:\n",
    "        container_dict_without_containers4[container_type] = []\n",
    "        for i, container in enumerate(container_dict_without_containers3[container_type]):\n",
    "            if i not in indexes[container_type]:\n",
    "                container_dict_without_containers4[container_type].append(container)\n",
    "    containers_combination_4, indexes = find_best_container_combination(container_dict_without_containers4,\n",
    "                                                                        container_combinations[1],\n",
    "                                                                        compartments_max_weight[1],\n",
    "                                                                        number_of_tries)\n",
    "\n",
    "    return containers_combination_1, containers_combination_2, containers_combination_3, containers_combination_4, container_dict"
   ]
  },
  {
   "cell_type": "markdown",
   "metadata": {},
   "source": [
    "Tests"
   ]
  },
  {
   "cell_type": "code",
   "execution_count": 118,
   "metadata": {},
   "outputs": [],
   "source": [
    "containers_combination_4, containers_combination_3, containers_combination_2, containers_combination_1, container_dict = split_containers_by_compartments(\n",
    "    containers, get_compartments(), container_combinations,\n",
    "    compartments_max_weight, 100000)"
   ]
  },
  {
   "cell_type": "code",
   "execution_count": 119,
   "outputs": [
    {
     "name": "stdout",
     "output_type": "stream",
     "text": [
      "[{'compartmentId': 1, 'containersWithShipments': [{'containerType': 'AKE', 'shipments': [95, 96, 97]}, {'containerType': 'AKE', 'shipments': [91, 92, 93, 94]}], 'containersWithLuggage': [{'containerType': 'AKE', 'nbOfLuggage': 38}, {'containerType': 'AKE', 'nbOfLuggage': 38}, {'containerType': 'AKE', 'nbOfLuggage': 38}, {'containerType': 'AKE', 'nbOfLuggage': 38}, {'containerType': 'AKE', 'nbOfLuggage': 38}, {'containerType': 'AKE', 'nbOfLuggage': 38}, {'containerType': 'AKE', 'nbOfLuggage': 17}, {'containerType': 'AKE', 'nbOfLuggage': 38}]}, {'compartmentId': 2, 'containersWithShipments': [{'containerType': 'AKE', 'shipments': [65, 66]}, {'containerType': 'AKE', 'shipments': [45, 46]}, {'containerType': 'AKE', 'shipments': [72]}, {'containerType': 'AKE', 'shipments': [87, 88, 89, 90]}, {'containerType': 'AKE', 'shipments': [32, 33, 34]}, {'containerType': 'AKE', 'shipments': [35, 36, 37]}, {'containerType': 'AKE', 'shipments': [83, 84, 85, 86]}, {'containerType': 'AKE', 'shipments': [70]}, {'containerType': 'AKE', 'shipments': [71]}, {'containerType': 'AKE', 'shipments': [15, 16, 5, 6, 11, 8, 30]}], 'containersWithLuggage': []}, {'compartmentId': 3, 'containersWithShipments': [{'containerType': 'AKE', 'shipments': [73]}, {'containerType': 'AKE', 'shipments': [47, 78, 79, 80, 54]}, {'containerType': 'AKE', 'shipments': [59, 60]}, {'containerType': 'AKE', 'shipments': [74, 82]}, {'containerType': 'AKE', 'shipments': [63, 64]}, {'containerType': 'AKE', 'shipments': [57, 58]}, {'containerType': 'AKE', 'shipments': [61, 62]}, {'containerType': 'AKE', 'shipments': [55, 56]}], 'containersWithLuggage': []}, {'compartmentId': 4, 'containersWithShipments': [{'containerType': 'AKE', 'shipments': [21, 22, 23, 31]}, {'containerType': 'AKE', 'shipments': [12, 4, 69, 49, 13, 2, 48, 51, 9]}, {'containerType': 'AKE', 'shipments': [38, 24, 25]}, {'containerType': 'AKE', 'shipments': [17, 18]}, {'containerType': 'PMC', 'shipments': [44, 19]}], 'containersWithLuggage': []}, {'compartmentId': 5, 'containersWithShipments': [], 'containersWithLuggage': [{'containerType': 'AKE', 'nbOfLuggage': 38}]}]\n",
      "{'law': 204897.2, 'warnings': [{'error': {'code': 'WARN01', 'message': 'The submitted shipment list is not complete. You forgot 25 shipments'}, 'stackTrace': [], 'suppressedExceptions': []}], 'zfwCg': 64.467317, 'toCg': 60.46889699999999, 'zfw': 197298.2, 'fwdLimit': 0.0, 'aftLimit': 0.0, 'tow': 265514.2, 'ldCg': 65.10027699999999}\n"
     ]
    },
    {
     "ename": "ConnectionError",
     "evalue": "HTTPConnectionPool(host='localhost', port=8081): Max retries exceeded with url: /api/graph (Caused by NewConnectionError('<urllib3.connection.HTTPConnection object at 0x00000222E9378550>: Failed to establish a new connection: [WinError 10061] No connection could be made because the target machine actively refused it'))",
     "output_type": "error",
     "traceback": [
      "\u001B[1;31m---------------------------------------------------------------------------\u001B[0m",
      "\u001B[1;31mConnectionRefusedError\u001B[0m                    Traceback (most recent call last)",
      "File \u001B[1;32m~\\anaconda3\\envs\\amadeus\\lib\\site-packages\\urllib3\\connection.py:174\u001B[0m, in \u001B[0;36mHTTPConnection._new_conn\u001B[1;34m(self)\u001B[0m\n\u001B[0;32m    173\u001B[0m \u001B[38;5;28;01mtry\u001B[39;00m:\n\u001B[1;32m--> 174\u001B[0m     conn \u001B[38;5;241m=\u001B[39m connection\u001B[38;5;241m.\u001B[39mcreate_connection(\n\u001B[0;32m    175\u001B[0m         (\u001B[38;5;28mself\u001B[39m\u001B[38;5;241m.\u001B[39m_dns_host, \u001B[38;5;28mself\u001B[39m\u001B[38;5;241m.\u001B[39mport), \u001B[38;5;28mself\u001B[39m\u001B[38;5;241m.\u001B[39mtimeout, \u001B[38;5;241m*\u001B[39m\u001B[38;5;241m*\u001B[39mextra_kw\n\u001B[0;32m    176\u001B[0m     )\n\u001B[0;32m    178\u001B[0m \u001B[38;5;28;01mexcept\u001B[39;00m SocketTimeout:\n",
      "File \u001B[1;32m~\\anaconda3\\envs\\amadeus\\lib\\site-packages\\urllib3\\util\\connection.py:95\u001B[0m, in \u001B[0;36mcreate_connection\u001B[1;34m(address, timeout, source_address, socket_options)\u001B[0m\n\u001B[0;32m     94\u001B[0m \u001B[38;5;28;01mif\u001B[39;00m err \u001B[38;5;129;01mis\u001B[39;00m \u001B[38;5;129;01mnot\u001B[39;00m \u001B[38;5;28;01mNone\u001B[39;00m:\n\u001B[1;32m---> 95\u001B[0m     \u001B[38;5;28;01mraise\u001B[39;00m err\n\u001B[0;32m     97\u001B[0m \u001B[38;5;28;01mraise\u001B[39;00m socket\u001B[38;5;241m.\u001B[39merror(\u001B[38;5;124m\"\u001B[39m\u001B[38;5;124mgetaddrinfo returns an empty list\u001B[39m\u001B[38;5;124m\"\u001B[39m)\n",
      "File \u001B[1;32m~\\anaconda3\\envs\\amadeus\\lib\\site-packages\\urllib3\\util\\connection.py:85\u001B[0m, in \u001B[0;36mcreate_connection\u001B[1;34m(address, timeout, source_address, socket_options)\u001B[0m\n\u001B[0;32m     84\u001B[0m     sock\u001B[38;5;241m.\u001B[39mbind(source_address)\n\u001B[1;32m---> 85\u001B[0m \u001B[43msock\u001B[49m\u001B[38;5;241;43m.\u001B[39;49m\u001B[43mconnect\u001B[49m\u001B[43m(\u001B[49m\u001B[43msa\u001B[49m\u001B[43m)\u001B[49m\n\u001B[0;32m     86\u001B[0m \u001B[38;5;28;01mreturn\u001B[39;00m sock\n",
      "\u001B[1;31mConnectionRefusedError\u001B[0m: [WinError 10061] No connection could be made because the target machine actively refused it",
      "\nDuring handling of the above exception, another exception occurred:\n",
      "\u001B[1;31mNewConnectionError\u001B[0m                        Traceback (most recent call last)",
      "File \u001B[1;32m~\\anaconda3\\envs\\amadeus\\lib\\site-packages\\urllib3\\connectionpool.py:703\u001B[0m, in \u001B[0;36mHTTPConnectionPool.urlopen\u001B[1;34m(self, method, url, body, headers, retries, redirect, assert_same_host, timeout, pool_timeout, release_conn, chunked, body_pos, **response_kw)\u001B[0m\n\u001B[0;32m    702\u001B[0m \u001B[38;5;66;03m# Make the request on the httplib connection object.\u001B[39;00m\n\u001B[1;32m--> 703\u001B[0m httplib_response \u001B[38;5;241m=\u001B[39m \u001B[38;5;28;43mself\u001B[39;49m\u001B[38;5;241;43m.\u001B[39;49m\u001B[43m_make_request\u001B[49m\u001B[43m(\u001B[49m\n\u001B[0;32m    704\u001B[0m \u001B[43m    \u001B[49m\u001B[43mconn\u001B[49m\u001B[43m,\u001B[49m\n\u001B[0;32m    705\u001B[0m \u001B[43m    \u001B[49m\u001B[43mmethod\u001B[49m\u001B[43m,\u001B[49m\n\u001B[0;32m    706\u001B[0m \u001B[43m    \u001B[49m\u001B[43murl\u001B[49m\u001B[43m,\u001B[49m\n\u001B[0;32m    707\u001B[0m \u001B[43m    \u001B[49m\u001B[43mtimeout\u001B[49m\u001B[38;5;241;43m=\u001B[39;49m\u001B[43mtimeout_obj\u001B[49m\u001B[43m,\u001B[49m\n\u001B[0;32m    708\u001B[0m \u001B[43m    \u001B[49m\u001B[43mbody\u001B[49m\u001B[38;5;241;43m=\u001B[39;49m\u001B[43mbody\u001B[49m\u001B[43m,\u001B[49m\n\u001B[0;32m    709\u001B[0m \u001B[43m    \u001B[49m\u001B[43mheaders\u001B[49m\u001B[38;5;241;43m=\u001B[39;49m\u001B[43mheaders\u001B[49m\u001B[43m,\u001B[49m\n\u001B[0;32m    710\u001B[0m \u001B[43m    \u001B[49m\u001B[43mchunked\u001B[49m\u001B[38;5;241;43m=\u001B[39;49m\u001B[43mchunked\u001B[49m\u001B[43m,\u001B[49m\n\u001B[0;32m    711\u001B[0m \u001B[43m\u001B[49m\u001B[43m)\u001B[49m\n\u001B[0;32m    713\u001B[0m \u001B[38;5;66;03m# If we're going to release the connection in ``finally:``, then\u001B[39;00m\n\u001B[0;32m    714\u001B[0m \u001B[38;5;66;03m# the response doesn't need to know about the connection. Otherwise\u001B[39;00m\n\u001B[0;32m    715\u001B[0m \u001B[38;5;66;03m# it will also try to release it and we'll have a double-release\u001B[39;00m\n\u001B[0;32m    716\u001B[0m \u001B[38;5;66;03m# mess.\u001B[39;00m\n",
      "File \u001B[1;32m~\\anaconda3\\envs\\amadeus\\lib\\site-packages\\urllib3\\connectionpool.py:398\u001B[0m, in \u001B[0;36mHTTPConnectionPool._make_request\u001B[1;34m(self, conn, method, url, timeout, chunked, **httplib_request_kw)\u001B[0m\n\u001B[0;32m    397\u001B[0m     \u001B[38;5;28;01melse\u001B[39;00m:\n\u001B[1;32m--> 398\u001B[0m         conn\u001B[38;5;241m.\u001B[39mrequest(method, url, \u001B[38;5;241m*\u001B[39m\u001B[38;5;241m*\u001B[39mhttplib_request_kw)\n\u001B[0;32m    400\u001B[0m \u001B[38;5;66;03m# We are swallowing BrokenPipeError (errno.EPIPE) since the server is\u001B[39;00m\n\u001B[0;32m    401\u001B[0m \u001B[38;5;66;03m# legitimately able to close the connection after sending a valid response.\u001B[39;00m\n\u001B[0;32m    402\u001B[0m \u001B[38;5;66;03m# With this behaviour, the received response is still readable.\u001B[39;00m\n",
      "File \u001B[1;32m~\\anaconda3\\envs\\amadeus\\lib\\site-packages\\urllib3\\connection.py:239\u001B[0m, in \u001B[0;36mHTTPConnection.request\u001B[1;34m(self, method, url, body, headers)\u001B[0m\n\u001B[0;32m    238\u001B[0m     headers[\u001B[38;5;124m\"\u001B[39m\u001B[38;5;124mUser-Agent\u001B[39m\u001B[38;5;124m\"\u001B[39m] \u001B[38;5;241m=\u001B[39m _get_default_user_agent()\n\u001B[1;32m--> 239\u001B[0m \u001B[38;5;28;43msuper\u001B[39;49m\u001B[43m(\u001B[49m\u001B[43mHTTPConnection\u001B[49m\u001B[43m,\u001B[49m\u001B[43m \u001B[49m\u001B[38;5;28;43mself\u001B[39;49m\u001B[43m)\u001B[49m\u001B[38;5;241;43m.\u001B[39;49m\u001B[43mrequest\u001B[49m\u001B[43m(\u001B[49m\u001B[43mmethod\u001B[49m\u001B[43m,\u001B[49m\u001B[43m \u001B[49m\u001B[43murl\u001B[49m\u001B[43m,\u001B[49m\u001B[43m \u001B[49m\u001B[43mbody\u001B[49m\u001B[38;5;241;43m=\u001B[39;49m\u001B[43mbody\u001B[49m\u001B[43m,\u001B[49m\u001B[43m \u001B[49m\u001B[43mheaders\u001B[49m\u001B[38;5;241;43m=\u001B[39;49m\u001B[43mheaders\u001B[49m\u001B[43m)\u001B[49m\n",
      "File \u001B[1;32m~\\anaconda3\\envs\\amadeus\\lib\\http\\client.py:1282\u001B[0m, in \u001B[0;36mHTTPConnection.request\u001B[1;34m(self, method, url, body, headers, encode_chunked)\u001B[0m\n\u001B[0;32m   1281\u001B[0m \u001B[38;5;124;03m\"\"\"Send a complete request to the server.\"\"\"\u001B[39;00m\n\u001B[1;32m-> 1282\u001B[0m \u001B[38;5;28;43mself\u001B[39;49m\u001B[38;5;241;43m.\u001B[39;49m\u001B[43m_send_request\u001B[49m\u001B[43m(\u001B[49m\u001B[43mmethod\u001B[49m\u001B[43m,\u001B[49m\u001B[43m \u001B[49m\u001B[43murl\u001B[49m\u001B[43m,\u001B[49m\u001B[43m \u001B[49m\u001B[43mbody\u001B[49m\u001B[43m,\u001B[49m\u001B[43m \u001B[49m\u001B[43mheaders\u001B[49m\u001B[43m,\u001B[49m\u001B[43m \u001B[49m\u001B[43mencode_chunked\u001B[49m\u001B[43m)\u001B[49m\n",
      "File \u001B[1;32m~\\anaconda3\\envs\\amadeus\\lib\\http\\client.py:1328\u001B[0m, in \u001B[0;36mHTTPConnection._send_request\u001B[1;34m(self, method, url, body, headers, encode_chunked)\u001B[0m\n\u001B[0;32m   1327\u001B[0m     body \u001B[38;5;241m=\u001B[39m _encode(body, \u001B[38;5;124m'\u001B[39m\u001B[38;5;124mbody\u001B[39m\u001B[38;5;124m'\u001B[39m)\n\u001B[1;32m-> 1328\u001B[0m \u001B[38;5;28;43mself\u001B[39;49m\u001B[38;5;241;43m.\u001B[39;49m\u001B[43mendheaders\u001B[49m\u001B[43m(\u001B[49m\u001B[43mbody\u001B[49m\u001B[43m,\u001B[49m\u001B[43m \u001B[49m\u001B[43mencode_chunked\u001B[49m\u001B[38;5;241;43m=\u001B[39;49m\u001B[43mencode_chunked\u001B[49m\u001B[43m)\u001B[49m\n",
      "File \u001B[1;32m~\\anaconda3\\envs\\amadeus\\lib\\http\\client.py:1277\u001B[0m, in \u001B[0;36mHTTPConnection.endheaders\u001B[1;34m(self, message_body, encode_chunked)\u001B[0m\n\u001B[0;32m   1276\u001B[0m     \u001B[38;5;28;01mraise\u001B[39;00m CannotSendHeader()\n\u001B[1;32m-> 1277\u001B[0m \u001B[38;5;28;43mself\u001B[39;49m\u001B[38;5;241;43m.\u001B[39;49m\u001B[43m_send_output\u001B[49m\u001B[43m(\u001B[49m\u001B[43mmessage_body\u001B[49m\u001B[43m,\u001B[49m\u001B[43m \u001B[49m\u001B[43mencode_chunked\u001B[49m\u001B[38;5;241;43m=\u001B[39;49m\u001B[43mencode_chunked\u001B[49m\u001B[43m)\u001B[49m\n",
      "File \u001B[1;32m~\\anaconda3\\envs\\amadeus\\lib\\http\\client.py:1037\u001B[0m, in \u001B[0;36mHTTPConnection._send_output\u001B[1;34m(self, message_body, encode_chunked)\u001B[0m\n\u001B[0;32m   1036\u001B[0m \u001B[38;5;28;01mdel\u001B[39;00m \u001B[38;5;28mself\u001B[39m\u001B[38;5;241m.\u001B[39m_buffer[:]\n\u001B[1;32m-> 1037\u001B[0m \u001B[38;5;28;43mself\u001B[39;49m\u001B[38;5;241;43m.\u001B[39;49m\u001B[43msend\u001B[49m\u001B[43m(\u001B[49m\u001B[43mmsg\u001B[49m\u001B[43m)\u001B[49m\n\u001B[0;32m   1039\u001B[0m \u001B[38;5;28;01mif\u001B[39;00m message_body \u001B[38;5;129;01mis\u001B[39;00m \u001B[38;5;129;01mnot\u001B[39;00m \u001B[38;5;28;01mNone\u001B[39;00m:\n\u001B[0;32m   1040\u001B[0m \n\u001B[0;32m   1041\u001B[0m     \u001B[38;5;66;03m# create a consistent interface to message_body\u001B[39;00m\n",
      "File \u001B[1;32m~\\anaconda3\\envs\\amadeus\\lib\\http\\client.py:975\u001B[0m, in \u001B[0;36mHTTPConnection.send\u001B[1;34m(self, data)\u001B[0m\n\u001B[0;32m    974\u001B[0m \u001B[38;5;28;01mif\u001B[39;00m \u001B[38;5;28mself\u001B[39m\u001B[38;5;241m.\u001B[39mauto_open:\n\u001B[1;32m--> 975\u001B[0m     \u001B[38;5;28;43mself\u001B[39;49m\u001B[38;5;241;43m.\u001B[39;49m\u001B[43mconnect\u001B[49m\u001B[43m(\u001B[49m\u001B[43m)\u001B[49m\n\u001B[0;32m    976\u001B[0m \u001B[38;5;28;01melse\u001B[39;00m:\n",
      "File \u001B[1;32m~\\anaconda3\\envs\\amadeus\\lib\\site-packages\\urllib3\\connection.py:205\u001B[0m, in \u001B[0;36mHTTPConnection.connect\u001B[1;34m(self)\u001B[0m\n\u001B[0;32m    204\u001B[0m \u001B[38;5;28;01mdef\u001B[39;00m \u001B[38;5;21mconnect\u001B[39m(\u001B[38;5;28mself\u001B[39m):\n\u001B[1;32m--> 205\u001B[0m     conn \u001B[38;5;241m=\u001B[39m \u001B[38;5;28;43mself\u001B[39;49m\u001B[38;5;241;43m.\u001B[39;49m\u001B[43m_new_conn\u001B[49m\u001B[43m(\u001B[49m\u001B[43m)\u001B[49m\n\u001B[0;32m    206\u001B[0m     \u001B[38;5;28mself\u001B[39m\u001B[38;5;241m.\u001B[39m_prepare_conn(conn)\n",
      "File \u001B[1;32m~\\anaconda3\\envs\\amadeus\\lib\\site-packages\\urllib3\\connection.py:186\u001B[0m, in \u001B[0;36mHTTPConnection._new_conn\u001B[1;34m(self)\u001B[0m\n\u001B[0;32m    185\u001B[0m \u001B[38;5;28;01mexcept\u001B[39;00m SocketError \u001B[38;5;28;01mas\u001B[39;00m e:\n\u001B[1;32m--> 186\u001B[0m     \u001B[38;5;28;01mraise\u001B[39;00m NewConnectionError(\n\u001B[0;32m    187\u001B[0m         \u001B[38;5;28mself\u001B[39m, \u001B[38;5;124m\"\u001B[39m\u001B[38;5;124mFailed to establish a new connection: \u001B[39m\u001B[38;5;132;01m%s\u001B[39;00m\u001B[38;5;124m\"\u001B[39m \u001B[38;5;241m%\u001B[39m e\n\u001B[0;32m    188\u001B[0m     )\n\u001B[0;32m    190\u001B[0m \u001B[38;5;28;01mreturn\u001B[39;00m conn\n",
      "\u001B[1;31mNewConnectionError\u001B[0m: <urllib3.connection.HTTPConnection object at 0x00000222E9378550>: Failed to establish a new connection: [WinError 10061] No connection could be made because the target machine actively refused it",
      "\nDuring handling of the above exception, another exception occurred:\n",
      "\u001B[1;31mMaxRetryError\u001B[0m                             Traceback (most recent call last)",
      "File \u001B[1;32m~\\anaconda3\\envs\\amadeus\\lib\\site-packages\\requests\\adapters.py:489\u001B[0m, in \u001B[0;36mHTTPAdapter.send\u001B[1;34m(self, request, stream, timeout, verify, cert, proxies)\u001B[0m\n\u001B[0;32m    488\u001B[0m \u001B[38;5;28;01mif\u001B[39;00m \u001B[38;5;129;01mnot\u001B[39;00m chunked:\n\u001B[1;32m--> 489\u001B[0m     resp \u001B[38;5;241m=\u001B[39m \u001B[43mconn\u001B[49m\u001B[38;5;241;43m.\u001B[39;49m\u001B[43murlopen\u001B[49m\u001B[43m(\u001B[49m\n\u001B[0;32m    490\u001B[0m \u001B[43m        \u001B[49m\u001B[43mmethod\u001B[49m\u001B[38;5;241;43m=\u001B[39;49m\u001B[43mrequest\u001B[49m\u001B[38;5;241;43m.\u001B[39;49m\u001B[43mmethod\u001B[49m\u001B[43m,\u001B[49m\n\u001B[0;32m    491\u001B[0m \u001B[43m        \u001B[49m\u001B[43murl\u001B[49m\u001B[38;5;241;43m=\u001B[39;49m\u001B[43murl\u001B[49m\u001B[43m,\u001B[49m\n\u001B[0;32m    492\u001B[0m \u001B[43m        \u001B[49m\u001B[43mbody\u001B[49m\u001B[38;5;241;43m=\u001B[39;49m\u001B[43mrequest\u001B[49m\u001B[38;5;241;43m.\u001B[39;49m\u001B[43mbody\u001B[49m\u001B[43m,\u001B[49m\n\u001B[0;32m    493\u001B[0m \u001B[43m        \u001B[49m\u001B[43mheaders\u001B[49m\u001B[38;5;241;43m=\u001B[39;49m\u001B[43mrequest\u001B[49m\u001B[38;5;241;43m.\u001B[39;49m\u001B[43mheaders\u001B[49m\u001B[43m,\u001B[49m\n\u001B[0;32m    494\u001B[0m \u001B[43m        \u001B[49m\u001B[43mredirect\u001B[49m\u001B[38;5;241;43m=\u001B[39;49m\u001B[38;5;28;43;01mFalse\u001B[39;49;00m\u001B[43m,\u001B[49m\n\u001B[0;32m    495\u001B[0m \u001B[43m        \u001B[49m\u001B[43massert_same_host\u001B[49m\u001B[38;5;241;43m=\u001B[39;49m\u001B[38;5;28;43;01mFalse\u001B[39;49;00m\u001B[43m,\u001B[49m\n\u001B[0;32m    496\u001B[0m \u001B[43m        \u001B[49m\u001B[43mpreload_content\u001B[49m\u001B[38;5;241;43m=\u001B[39;49m\u001B[38;5;28;43;01mFalse\u001B[39;49;00m\u001B[43m,\u001B[49m\n\u001B[0;32m    497\u001B[0m \u001B[43m        \u001B[49m\u001B[43mdecode_content\u001B[49m\u001B[38;5;241;43m=\u001B[39;49m\u001B[38;5;28;43;01mFalse\u001B[39;49;00m\u001B[43m,\u001B[49m\n\u001B[0;32m    498\u001B[0m \u001B[43m        \u001B[49m\u001B[43mretries\u001B[49m\u001B[38;5;241;43m=\u001B[39;49m\u001B[38;5;28;43mself\u001B[39;49m\u001B[38;5;241;43m.\u001B[39;49m\u001B[43mmax_retries\u001B[49m\u001B[43m,\u001B[49m\n\u001B[0;32m    499\u001B[0m \u001B[43m        \u001B[49m\u001B[43mtimeout\u001B[49m\u001B[38;5;241;43m=\u001B[39;49m\u001B[43mtimeout\u001B[49m\u001B[43m,\u001B[49m\n\u001B[0;32m    500\u001B[0m \u001B[43m    \u001B[49m\u001B[43m)\u001B[49m\n\u001B[0;32m    502\u001B[0m \u001B[38;5;66;03m# Send the request.\u001B[39;00m\n\u001B[0;32m    503\u001B[0m \u001B[38;5;28;01melse\u001B[39;00m:\n",
      "File \u001B[1;32m~\\anaconda3\\envs\\amadeus\\lib\\site-packages\\urllib3\\connectionpool.py:787\u001B[0m, in \u001B[0;36mHTTPConnectionPool.urlopen\u001B[1;34m(self, method, url, body, headers, retries, redirect, assert_same_host, timeout, pool_timeout, release_conn, chunked, body_pos, **response_kw)\u001B[0m\n\u001B[0;32m    785\u001B[0m     e \u001B[38;5;241m=\u001B[39m ProtocolError(\u001B[38;5;124m\"\u001B[39m\u001B[38;5;124mConnection aborted.\u001B[39m\u001B[38;5;124m\"\u001B[39m, e)\n\u001B[1;32m--> 787\u001B[0m retries \u001B[38;5;241m=\u001B[39m \u001B[43mretries\u001B[49m\u001B[38;5;241;43m.\u001B[39;49m\u001B[43mincrement\u001B[49m\u001B[43m(\u001B[49m\n\u001B[0;32m    788\u001B[0m \u001B[43m    \u001B[49m\u001B[43mmethod\u001B[49m\u001B[43m,\u001B[49m\u001B[43m \u001B[49m\u001B[43murl\u001B[49m\u001B[43m,\u001B[49m\u001B[43m \u001B[49m\u001B[43merror\u001B[49m\u001B[38;5;241;43m=\u001B[39;49m\u001B[43me\u001B[49m\u001B[43m,\u001B[49m\u001B[43m \u001B[49m\u001B[43m_pool\u001B[49m\u001B[38;5;241;43m=\u001B[39;49m\u001B[38;5;28;43mself\u001B[39;49m\u001B[43m,\u001B[49m\u001B[43m \u001B[49m\u001B[43m_stacktrace\u001B[49m\u001B[38;5;241;43m=\u001B[39;49m\u001B[43msys\u001B[49m\u001B[38;5;241;43m.\u001B[39;49m\u001B[43mexc_info\u001B[49m\u001B[43m(\u001B[49m\u001B[43m)\u001B[49m\u001B[43m[\u001B[49m\u001B[38;5;241;43m2\u001B[39;49m\u001B[43m]\u001B[49m\n\u001B[0;32m    789\u001B[0m \u001B[43m\u001B[49m\u001B[43m)\u001B[49m\n\u001B[0;32m    790\u001B[0m retries\u001B[38;5;241m.\u001B[39msleep()\n",
      "File \u001B[1;32m~\\anaconda3\\envs\\amadeus\\lib\\site-packages\\urllib3\\util\\retry.py:592\u001B[0m, in \u001B[0;36mRetry.increment\u001B[1;34m(self, method, url, response, error, _pool, _stacktrace)\u001B[0m\n\u001B[0;32m    591\u001B[0m \u001B[38;5;28;01mif\u001B[39;00m new_retry\u001B[38;5;241m.\u001B[39mis_exhausted():\n\u001B[1;32m--> 592\u001B[0m     \u001B[38;5;28;01mraise\u001B[39;00m MaxRetryError(_pool, url, error \u001B[38;5;129;01mor\u001B[39;00m ResponseError(cause))\n\u001B[0;32m    594\u001B[0m log\u001B[38;5;241m.\u001B[39mdebug(\u001B[38;5;124m\"\u001B[39m\u001B[38;5;124mIncremented Retry for (url=\u001B[39m\u001B[38;5;124m'\u001B[39m\u001B[38;5;132;01m%s\u001B[39;00m\u001B[38;5;124m'\u001B[39m\u001B[38;5;124m): \u001B[39m\u001B[38;5;132;01m%r\u001B[39;00m\u001B[38;5;124m\"\u001B[39m, url, new_retry)\n",
      "\u001B[1;31mMaxRetryError\u001B[0m: HTTPConnectionPool(host='localhost', port=8081): Max retries exceeded with url: /api/graph (Caused by NewConnectionError('<urllib3.connection.HTTPConnection object at 0x00000222E9378550>: Failed to establish a new connection: [WinError 10061] No connection could be made because the target machine actively refused it'))",
      "\nDuring handling of the above exception, another exception occurred:\n",
      "\u001B[1;31mConnectionError\u001B[0m                           Traceback (most recent call last)",
      "Input \u001B[1;32mIn [119]\u001B[0m, in \u001B[0;36m<cell line: 63>\u001B[1;34m()\u001B[0m\n\u001B[0;32m     61\u001B[0m \u001B[38;5;28mprint\u001B[39m(submit_json)\n\u001B[0;32m     62\u001B[0m \u001B[38;5;28mprint\u001B[39m(submit_solution(submit_json))\n\u001B[1;32m---> 63\u001B[0m \u001B[38;5;28mprint\u001B[39m(\u001B[43mget_graph\u001B[49m\u001B[43m(\u001B[49m\u001B[43msubmit_solution\u001B[49m\u001B[43m(\u001B[49m\u001B[43msubmit_json\u001B[49m\u001B[43m)\u001B[49m\u001B[43m)\u001B[49m)\n",
      "Input \u001B[1;32mIn [109]\u001B[0m, in \u001B[0;36mget_graph\u001B[1;34m(solution)\u001B[0m\n\u001B[0;32m     46\u001B[0m \u001B[38;5;28;01mdef\u001B[39;00m \u001B[38;5;21mget_graph\u001B[39m(solution):\n\u001B[0;32m     47\u001B[0m     \u001B[38;5;124;03m\"\"\"Get graph from API as a base64 image and write it to output.png\"\"\"\u001B[39;00m\n\u001B[1;32m---> 48\u001B[0m     response \u001B[38;5;241m=\u001B[39m \u001B[43mrequests\u001B[49m\u001B[38;5;241;43m.\u001B[39;49m\u001B[43mpost\u001B[49m\u001B[43m(\u001B[49m\u001B[38;5;124;43m\"\u001B[39;49m\u001B[38;5;124;43mhttp://localhost:8081/api/graph\u001B[39;49m\u001B[38;5;124;43m\"\u001B[39;49m\u001B[43m,\u001B[49m\u001B[43m \u001B[49m\u001B[43mjson\u001B[49m\u001B[38;5;241;43m=\u001B[39;49m\u001B[43msolution\u001B[49m\u001B[43m)\u001B[49m\n\u001B[0;32m     50\u001B[0m     \u001B[38;5;28mprint\u001B[39m(response\u001B[38;5;241m.\u001B[39mjson())\n\u001B[0;32m     51\u001B[0m     g \u001B[38;5;241m=\u001B[39m \u001B[38;5;28mopen\u001B[39m(\u001B[38;5;124m\"\u001B[39m\u001B[38;5;124moutput.png\u001B[39m\u001B[38;5;124m\"\u001B[39m, \u001B[38;5;124m\"\u001B[39m\u001B[38;5;124mwb\u001B[39m\u001B[38;5;124m\"\u001B[39m)\n",
      "File \u001B[1;32m~\\anaconda3\\envs\\amadeus\\lib\\site-packages\\requests\\api.py:115\u001B[0m, in \u001B[0;36mpost\u001B[1;34m(url, data, json, **kwargs)\u001B[0m\n\u001B[0;32m    103\u001B[0m \u001B[38;5;28;01mdef\u001B[39;00m \u001B[38;5;21mpost\u001B[39m(url, data\u001B[38;5;241m=\u001B[39m\u001B[38;5;28;01mNone\u001B[39;00m, json\u001B[38;5;241m=\u001B[39m\u001B[38;5;28;01mNone\u001B[39;00m, \u001B[38;5;241m*\u001B[39m\u001B[38;5;241m*\u001B[39mkwargs):\n\u001B[0;32m    104\u001B[0m     \u001B[38;5;124mr\u001B[39m\u001B[38;5;124;03m\"\"\"Sends a POST request.\u001B[39;00m\n\u001B[0;32m    105\u001B[0m \n\u001B[0;32m    106\u001B[0m \u001B[38;5;124;03m    :param url: URL for the new :class:`Request` object.\u001B[39;00m\n\u001B[1;32m   (...)\u001B[0m\n\u001B[0;32m    112\u001B[0m \u001B[38;5;124;03m    :rtype: requests.Response\u001B[39;00m\n\u001B[0;32m    113\u001B[0m \u001B[38;5;124;03m    \"\"\"\u001B[39;00m\n\u001B[1;32m--> 115\u001B[0m     \u001B[38;5;28;01mreturn\u001B[39;00m request(\u001B[38;5;124m\"\u001B[39m\u001B[38;5;124mpost\u001B[39m\u001B[38;5;124m\"\u001B[39m, url, data\u001B[38;5;241m=\u001B[39mdata, json\u001B[38;5;241m=\u001B[39mjson, \u001B[38;5;241m*\u001B[39m\u001B[38;5;241m*\u001B[39mkwargs)\n",
      "File \u001B[1;32m~\\anaconda3\\envs\\amadeus\\lib\\site-packages\\requests\\api.py:59\u001B[0m, in \u001B[0;36mrequest\u001B[1;34m(method, url, **kwargs)\u001B[0m\n\u001B[0;32m     55\u001B[0m \u001B[38;5;66;03m# By using the 'with' statement we are sure the session is closed, thus we\u001B[39;00m\n\u001B[0;32m     56\u001B[0m \u001B[38;5;66;03m# avoid leaving sockets open which can trigger a ResourceWarning in some\u001B[39;00m\n\u001B[0;32m     57\u001B[0m \u001B[38;5;66;03m# cases, and look like a memory leak in others.\u001B[39;00m\n\u001B[0;32m     58\u001B[0m \u001B[38;5;28;01mwith\u001B[39;00m sessions\u001B[38;5;241m.\u001B[39mSession() \u001B[38;5;28;01mas\u001B[39;00m session:\n\u001B[1;32m---> 59\u001B[0m     \u001B[38;5;28;01mreturn\u001B[39;00m session\u001B[38;5;241m.\u001B[39mrequest(method\u001B[38;5;241m=\u001B[39mmethod, url\u001B[38;5;241m=\u001B[39murl, \u001B[38;5;241m*\u001B[39m\u001B[38;5;241m*\u001B[39mkwargs)\n",
      "File \u001B[1;32m~\\anaconda3\\envs\\amadeus\\lib\\site-packages\\requests\\sessions.py:587\u001B[0m, in \u001B[0;36mSession.request\u001B[1;34m(self, method, url, params, data, headers, cookies, files, auth, timeout, allow_redirects, proxies, hooks, stream, verify, cert, json)\u001B[0m\n\u001B[0;32m    582\u001B[0m send_kwargs \u001B[38;5;241m=\u001B[39m {\n\u001B[0;32m    583\u001B[0m     \u001B[38;5;124m\"\u001B[39m\u001B[38;5;124mtimeout\u001B[39m\u001B[38;5;124m\"\u001B[39m: timeout,\n\u001B[0;32m    584\u001B[0m     \u001B[38;5;124m\"\u001B[39m\u001B[38;5;124mallow_redirects\u001B[39m\u001B[38;5;124m\"\u001B[39m: allow_redirects,\n\u001B[0;32m    585\u001B[0m }\n\u001B[0;32m    586\u001B[0m send_kwargs\u001B[38;5;241m.\u001B[39mupdate(settings)\n\u001B[1;32m--> 587\u001B[0m resp \u001B[38;5;241m=\u001B[39m \u001B[38;5;28mself\u001B[39m\u001B[38;5;241m.\u001B[39msend(prep, \u001B[38;5;241m*\u001B[39m\u001B[38;5;241m*\u001B[39msend_kwargs)\n\u001B[0;32m    589\u001B[0m \u001B[38;5;28;01mreturn\u001B[39;00m resp\n",
      "File \u001B[1;32m~\\anaconda3\\envs\\amadeus\\lib\\site-packages\\requests\\sessions.py:701\u001B[0m, in \u001B[0;36mSession.send\u001B[1;34m(self, request, **kwargs)\u001B[0m\n\u001B[0;32m    698\u001B[0m start \u001B[38;5;241m=\u001B[39m preferred_clock()\n\u001B[0;32m    700\u001B[0m \u001B[38;5;66;03m# Send the request\u001B[39;00m\n\u001B[1;32m--> 701\u001B[0m r \u001B[38;5;241m=\u001B[39m adapter\u001B[38;5;241m.\u001B[39msend(request, \u001B[38;5;241m*\u001B[39m\u001B[38;5;241m*\u001B[39mkwargs)\n\u001B[0;32m    703\u001B[0m \u001B[38;5;66;03m# Total elapsed time of the request (approximately)\u001B[39;00m\n\u001B[0;32m    704\u001B[0m elapsed \u001B[38;5;241m=\u001B[39m preferred_clock() \u001B[38;5;241m-\u001B[39m start\n",
      "File \u001B[1;32m~\\anaconda3\\envs\\amadeus\\lib\\site-packages\\requests\\adapters.py:565\u001B[0m, in \u001B[0;36mHTTPAdapter.send\u001B[1;34m(self, request, stream, timeout, verify, cert, proxies)\u001B[0m\n\u001B[0;32m    561\u001B[0m     \u001B[38;5;28;01mif\u001B[39;00m \u001B[38;5;28misinstance\u001B[39m(e\u001B[38;5;241m.\u001B[39mreason, _SSLError):\n\u001B[0;32m    562\u001B[0m         \u001B[38;5;66;03m# This branch is for urllib3 v1.22 and later.\u001B[39;00m\n\u001B[0;32m    563\u001B[0m         \u001B[38;5;28;01mraise\u001B[39;00m SSLError(e, request\u001B[38;5;241m=\u001B[39mrequest)\n\u001B[1;32m--> 565\u001B[0m     \u001B[38;5;28;01mraise\u001B[39;00m \u001B[38;5;167;01mConnectionError\u001B[39;00m(e, request\u001B[38;5;241m=\u001B[39mrequest)\n\u001B[0;32m    567\u001B[0m \u001B[38;5;28;01mexcept\u001B[39;00m ClosedPoolError \u001B[38;5;28;01mas\u001B[39;00m e:\n\u001B[0;32m    568\u001B[0m     \u001B[38;5;28;01mraise\u001B[39;00m \u001B[38;5;167;01mConnectionError\u001B[39;00m(e, request\u001B[38;5;241m=\u001B[39mrequest)\n",
      "\u001B[1;31mConnectionError\u001B[0m: HTTPConnectionPool(host='localhost', port=8081): Max retries exceeded with url: /api/graph (Caused by NewConnectionError('<urllib3.connection.HTTPConnection object at 0x00000222E9378550>: Failed to establish a new connection: [WinError 10061] No connection could be made because the target machine actively refused it'))"
     ]
    }
   ],
   "source": [
    "# add luggage containers\n",
    "for container_type in containers_combination_1:\n",
    "    if container_type != \"max_weight\":\n",
    "        if container_type.container_type == \"AKE\":\n",
    "            for container in luggage.containers:\n",
    "                containers_combination_1[container_type].append(container)\n",
    "\n",
    "submit_json = []\n",
    "submit_json.append({\"compartmentId\": 1, \"containersWithShipments\": [], \"containersWithLuggage\": []})\n",
    "for container_type in containers_combination_1:\n",
    "    if container_type != \"max_weight\":\n",
    "        for container in containers_combination_1[container_type]:\n",
    "            if container.is_required:\n",
    "                submit_json[0][\"containersWithLuggage\"].append(\n",
    "                    {\"containerType\": \"AKE\", \"nbOfLuggage\": container.nb_luggage})\n",
    "            else:\n",
    "                submit_json[0][\"containersWithShipments\"].append({\"containerType\": container_type.container_type,\n",
    "                                                                  \"shipments\": [shipment._id for shipment in\n",
    "                                                                                container.shipments]})\n",
    "submit_json.append({\"compartmentId\": 2, \"containersWithShipments\": [], \"containersWithLuggage\": []})\n",
    "\n",
    "for container_type in containers_combination_2:\n",
    "    if container_type != \"max_weight\":\n",
    "        for container in containers_combination_2[container_type]:\n",
    "            if container.is_required:\n",
    "                submit_json[1][\"containersWithLuggage\"].append(\n",
    "                    {\"containerType\": \"AKE\", \"nbOfLuggage\": container.nb_luggage})\n",
    "            else:\n",
    "                submit_json[1][\"containersWithShipments\"].append({\"containerType\": container_type.container_type,\n",
    "                                                                  \"shipments\": [shipment._id for shipment in\n",
    "                                                                                container.shipments]})\n",
    "submit_json.append({\"compartmentId\": 3, \"containersWithShipments\": [], \"containersWithLuggage\": []})\n",
    "\n",
    "for container_type in containers_combination_3:\n",
    "    if container_type != \"max_weight\":\n",
    "        for container in containers_combination_3[container_type]:\n",
    "            if container.is_required:\n",
    "                submit_json[2][\"containersWithLuggage\"].append(\n",
    "                    {\"containerType\": \"AKE\", \"nbOfLuggage\": container.nb_luggage})\n",
    "            else:\n",
    "                submit_json[2][\"containersWithShipments\"].append({\"containerType\": container_type.container_type,\n",
    "                                                                  \"shipments\": [shipment._id for shipment in\n",
    "                                                                                container.shipments]})\n",
    "\n",
    "submit_json.append({\"compartmentId\": 4, \"containersWithShipments\": [], \"containersWithLuggage\": []})\n",
    "\n",
    "for container_type in containers_combination_4:\n",
    "    if container_type != \"max_weight\":\n",
    "        for container in containers_combination_4[container_type]:\n",
    "            if container.is_required:\n",
    "                submit_json[3][\"containersWithLuggage\"].append(\n",
    "                    {\"containerType\": \"AKE\", \"nbOfLuggage\": container.nb_luggage})\n",
    "            else:\n",
    "                submit_json[3][\"containersWithShipments\"].append({\"containerType\": container_type.container_type,\n",
    "                                                                  \"shipments\": [shipment._id for shipment in\n",
    "                                                                                container.shipments]})\n",
    "\n",
    "submit_json.append({\"compartmentId\": 5, \"containersWithShipments\": [],\n",
    "                    \"containersWithLuggage\": [\n",
    "                        {\"containerType\": \"AKE\", \"nbOfLuggage\": heaviest_luggage_container.nb_luggage}]})\n",
    "print(submit_json)\n",
    "print(submit_solution(submit_json))\n",
    "print(get_graph(submit_solution(submit_json)))"
   ],
   "metadata": {
    "collapsed": false
   }
  },
  {
   "cell_type": "markdown",
   "metadata": {
    "collapsed": false
   },
   "source": [
    "## Testing"
   ]
  },
  {
   "cell_type": "code",
   "execution_count": 87,
   "metadata": {
    "collapsed": false
   },
   "outputs": [
    {
     "name": "stderr",
     "output_type": "stream",
     "text": [
      "100%|██████████| 70/70 [01:40<00:00,  1.44s/it] \n"
     ]
    }
   ],
   "source": [
    "import statistics\n",
    "from matplotlib import pyplot as plt\n",
    "import numpy as np\n",
    "import time\n",
    "\n",
    "NUMBER_OF_SAMPLE = 50\n",
    "x = []\n",
    "y = []\n",
    "y_best = []\n",
    "y_error = []\n",
    "time_average = []\n",
    "time_std = []\n",
    "\n",
    "\n",
    "def powspace(start: float, stop: float, num: int):\n",
    "    log_start, log_stop = np.log(start), np.log(stop)\n",
    "    return np.exp(np.linspace(log_start, log_stop, num))\n",
    "\n",
    "\n",
    "for number_of_tries in tqdm(powspace(1, 10000, 70)):\n",
    "    x.append(number_of_tries)\n",
    "    times = []\n",
    "    values = []\n",
    "    for k in range(NUMBER_OF_SAMPLE):\n",
    "        start_time = time.time()\n",
    "        values.append(\n",
    "            find_best_container_combination(containers, container_combinations[4], compartments_max_weight[4],\n",
    "                                            int(number_of_tries))[0]['max_weight'])\n",
    "        times.append(time.time() - start_time)\n",
    "\n",
    "    y.append(statistics.mean(values))\n",
    "    y_error.append(statistics.stdev(values))\n",
    "    y_best.append(compartments_max_weight[4])\n",
    "    time_average.append(statistics.mean(times))\n",
    "    time_std.append(statistics.stdev(times))\n"
   ]
  },
  {
   "cell_type": "code",
   "execution_count": 88,
   "metadata": {
    "collapsed": false
   },
   "outputs": [
    {
     "data": {
      "text/plain": "<Figure size 640x480 with 1 Axes>",
      "image/png": "[encoded data removed]"
     },
     "metadata": {},
     "output_type": "display_data"
    }
   ],
   "source": [
    "plt.plot(x, y)\n",
    "plt.plot(x, y_best, \"--c\")\n",
    "plt.xscale('log', base=2)\n",
    "# plt.ylim((15000, 27500))\n",
    "plt.xlabel(\"Number of tries\")\n",
    "plt.ylabel(\"Weight placed\")\n",
    "plt.title(\"Algorithm precision for compartment 4\")\n",
    "plt.show()"
   ]
  },
  {
   "cell_type": "code",
   "execution_count": 89,
   "metadata": {
    "collapsed": false
   },
   "outputs": [
    {
     "data": {
      "text/plain": "<Figure size 640x480 with 1 Axes>",
      "image/png": "[encoded data removed]"
     },
     "metadata": {},
     "output_type": "display_data"
    }
   ],
   "source": [
    "plt.plot(x, y_error, \"red\")\n",
    "plt.xscale('log', base=2)\n",
    "plt.xlabel(\"Number of tries\")\n",
    "plt.ylabel(\"Weight std div\")\n",
    "plt.title(\"Algorithm error for compartment 4\")\n",
    "plt.show()"
   ]
  },
  {
   "cell_type": "markdown",
   "source": [
    "### Comparaison old method vs new method"
   ],
   "metadata": {
    "collapsed": false
   }
  },
  {
   "cell_type": "code",
   "execution_count": 90,
   "metadata": {},
   "outputs": [
    {
     "data": {
      "text/plain": "<Figure size 640x480 with 1 Axes>",
      "image/png": "[encoded data removed]"
     },
     "metadata": {},
     "output_type": "display_data"
    }
   ],
   "source": [
    "## plot graph of f(x) = 3278^x and f(x) = x\n",
    "\n",
    "import matplotlib.pyplot as plt\n",
    "import numpy as np\n",
    "\n",
    "x2 = np.linspace(0, 10, 1000)\n",
    "y2 = 3278 ** x2\n",
    "z2 = 10000 * (x2 - x2)\n",
    "\n",
    "plt.plot(x2, y2, label='3278^x')\n",
    "plt.plot(x2, z2, label='x')\n",
    "plt.xlabel('x')\n",
    "plt.ylabel('y')\n",
    "plt.title('f(x) = 3278^x and f(x) = x')\n",
    "plt.legend()\n",
    "plt.show()"
   ]
  },
  {
   "cell_type": "code",
   "execution_count": 93,
   "outputs": [
    {
     "data": {
      "text/plain": "<Figure size 640x480 with 1 Axes>",
      "image/png": "[encoded data removed]"
     },
     "metadata": {},
     "output_type": "display_data"
    }
   ],
   "source": [
    "# plot time in function of the tries\n",
    "\n",
    "plt.plot(x, time_average, label=\"time\")\n",
    "plt.xlabel('number of tries')\n",
    "plt.ylabel('times in (s)')\n",
    "plt.title('Time taken by the algorithm')\n",
    "plt.legend()\n",
    "plt.show()"
   ],
   "metadata": {
    "collapsed": false
   }
  },
  {
   "cell_type": "markdown",
   "metadata": {},
   "source": []
  }
 ],
 "metadata": {
  "kernelspec": {
   "display_name": "Python 3 (ipykernel)",
   "language": "python",
   "name": "python3"
  },
  "language_info": {
   "codemirror_mode": {
    "name": "ipython",
    "version": 3
   },
   "file_extension": ".py",
   "mimetype": "text/x-python",
   "name": "python",
   "nbconvert_exporter": "python",
   "pygments_lexer": "ipython3",
   "version": "3.10.4"
  }
 },
 "nbformat": 4,
 "nbformat_minor": 1
}
