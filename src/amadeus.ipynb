{
 "cells": [
  {
   "cell_type": "markdown",
   "source": [
    "# Step 1 get data\n",
    "\n",
    "GET https://af-cargo-api-cargo.azuremicroservices.io/api/compartment to retrieve all compartments\n",
    "GET https://af-cargo-api-cargo.azuremicroservices.io/api/container to retrieve all container types\n",
    "GET https://af-cargo-api-cargo.azuremicroservices.io/api/shipment to retrieve all shipments\n",
    "GET https://af-cargo-api-cargo.azuremicroservices.io/api/luggage to retrieve nb of Luggage and average weight\n",
    "POST https://af-cargo-api-cargo.azuremicroservices.io/api/submit to submit your answer with an object containing the 5 compartment with their containers and shipments (shipment id list).\n",
    "POST http://localhost:8081/api/graph to transform the solution into the image (base64 encoded)\n"
   ],
   "metadata": {
    "collapsed": false
   }
  },
  {
   "cell_type": "markdown",
   "source": [
    "# First we extract the data from the pdf which is not available from the api"
   ],
   "metadata": {
    "collapsed": false
   }
  },
  {
   "cell_type": "code",
   "execution_count": 194,
   "outputs": [],
   "source": [
    "DEFAULT_LUGGAGE_CONTAINER = 'AKE'\n",
    "DEFAULT_NB_LUGGAGE_PER_CONTAINER = 38\n",
    "DEFAULT_CONTAINER_TARE_WEIGHT = {\n",
    "    \"PMC\": 120,\n",
    "    \"PAG\": 125,\n",
    "    \"AKE\": 57,\n",
    "}\n",
    "\n",
    "DEFAULT_CONTAINER_MAX_WEIGHT = {\n",
    "    \"PMC\": 5102,\n",
    "    \"PAG\": 4676,\n",
    "    \"AKE\": 1587,\n",
    "}\n",
    "\n",
    "DEFAULT_COMPARTMENTS_MAX_WEIGHT = {\n",
    "    \"FWD\": 32005,\n",
    "    \"AFT\": 25655,\n",
    "}\n",
    "\n",
    "DEFAULT_CONTAINER_COMBINATIONS = {\n",
    "    \"FWD\": [\n",
    "        {\n",
    "            'PMC': 0,\n",
    "            'PAG': 0,\n",
    "            'AKE': 20\n",
    "        },\n",
    "        {\n",
    "            'PMC': 0,\n",
    "            'PAG': 1,\n",
    "            'AKE': 16\n",
    "        },\n",
    "        {\n",
    "            'PMC': 1,\n",
    "            'PAG': 1,\n",
    "            'AKE': 14\n",
    "        },\n",
    "\n",
    "        {\n",
    "            'PMC': 0,\n",
    "            'PAG': 2,\n",
    "            'AKE': 12\n",
    "        },\n",
    "        {\n",
    "            'PMC': 0,\n",
    "            'PAG': 3,\n",
    "            'AKE': 10\n",
    "        },\n",
    "        {\n",
    "            'PMC': 0,\n",
    "            'PAG': 4,\n",
    "            'AKE': 6,\n",
    "        },\n",
    "        {\n",
    "            'PMC': 0,\n",
    "            'PAG': 5,\n",
    "            'AKE': 2\n",
    "        },\n",
    "        {\n",
    "            'PMC': 0,\n",
    "            'PAG': 6,\n",
    "            'AKE': 0,\n",
    "        },\n",
    "    ],\n",
    "\n",
    "    \"AFT\": [\n",
    "        {\n",
    "            \"PMC\": 0,\n",
    "            \"PAG\": 0,\n",
    "            \"AKE\": 16,\n",
    "        },\n",
    "        {\n",
    "            \"PMC\": 0,\n",
    "            \"PAG\": 1,\n",
    "            \"AKE\": 12,\n",
    "        },\n",
    "        {\n",
    "            \"PMC\": 1,\n",
    "            \"PAG\": 1,\n",
    "            \"AKE\": 10,\n",
    "        },\n",
    "        {\n",
    "            \"PMC\": 0,\n",
    "            \"PAG\": 2,\n",
    "            \"AKE\": 8,\n",
    "        },\n",
    "        {\n",
    "            \"PMC\": 0,\n",
    "            \"PAG\": 3,\n",
    "            \"AKE\": 6,\n",
    "        },\n",
    "        {\n",
    "            \"PMC\": 0,\n",
    "            \"PAG\": 4,\n",
    "            \"AKE\": 2,\n",
    "        },\n",
    "        {\n",
    "            \"PMC\": 0,\n",
    "            \"PAG\": 5,\n",
    "            \"AKE\": 0,\n",
    "        }\n",
    "    ],\n",
    "\n",
    "}\n",
    "\n"
   ],
   "metadata": {
    "collapsed": false
   }
  },
  {
   "cell_type": "markdown",
   "source": [
    "# Create classes to store and act upon the data"
   ],
   "metadata": {
    "collapsed": false
   }
  },
  {
   "cell_type": "code",
   "execution_count": 195,
   "outputs": [],
   "source": [
    "\n",
    "class Shipment:\n",
    "    \"\"\"Rectangle Shipment class.\"\"\"\n",
    "\n",
    "    def __init__(self, weight: float, height, width, length, awb, id=1):\n",
    "        self.awb = awb\n",
    "        self.weight = weight\n",
    "        self.awb = awb\n",
    "        self.width = width\n",
    "        self.height = height\n",
    "        self.length = length\n",
    "        self.volume = self.width * self.height * self.length\n",
    "        self.density = self.weight / self.volume\n",
    "        self._id = id\n",
    "\n",
    "    def __str__(self):\n",
    "        return f'Shipment({self._id} , {self.awb}, {self.weight}, {self.width}, {self.height}, {self.length}, {self.volume}, {self.density})'\n",
    "\n",
    "\n",
    "class ContainerType:\n",
    "    container_type_id = 0\n",
    "\n",
    "    def __init__(self, container_type, height, width, length, max_weight, tare_weight):\n",
    "        Container.container_id += 1\n",
    "        self.container_type_id = Container.container_id\n",
    "        self.container_type = container_type\n",
    "        self.height = height\n",
    "        self.width = width\n",
    "        self.length = length\n",
    "        self.volume = self.width * self.height * self.length\n",
    "        self.max_weight = max_weight\n",
    "        self.tare_weight = 0\n",
    "\n",
    "    def __str__(self):\n",
    "        return f'ContainerType({self.container_type}, {self.height}, {self.width}, {self.length})'\n",
    "\n",
    "\n",
    "class Compartment:\n",
    "    def __init__(self, compartment_id, max_weight):\n",
    "        self.compartment_id = compartment_id\n",
    "        # self.height = height\n",
    "        # self.width = width\n",
    "        # self.length = length\n",
    "        self.containers = []\n",
    "        self.max_weight = max_weight\n",
    "        self.weight = 0\n",
    "\n",
    "    def add_container(self, container):\n",
    "        self.containers.append(container)\n",
    "        self.weight += container.weight\n",
    "\n",
    "    def __str__(self):\n",
    "        return f'Compartment({self.compartment_id}, {self.max_weight}, {self.containers})'\n",
    "\n",
    "\n",
    "class Container:\n",
    "    container_id = 0\n",
    "\n",
    "    def __init__(self, container_type: ContainerType, is_required=False):\n",
    "        Container.container_id += 1\n",
    "        self.container_id = Container.container_id\n",
    "        self.container_type = container_type\n",
    "        self.shipments = []\n",
    "        self.occupied_volume = 0\n",
    "        self.weight = container_type.tare_weight\n",
    "        self.occupied_volume_percentage = 0\n",
    "        self.is_required = is_required\n",
    "        self.density = 0\n",
    "\n",
    "    def add_shipment(self, shipment: Shipment):\n",
    "        self.shipments.append(shipment)\n",
    "        self.occupied_volume += shipment.volume\n",
    "        self.weight += shipment.weight\n",
    "        self.occupied_volume_percentage = self.occupied_volume / self.container_type.volume\n",
    "        self.density = self.weight / self.container_type.volume\n",
    "\n",
    "    def full_luggage(self):\n",
    "        return self.occupied_volume_percentage == 1\n",
    "\n",
    "    def __str__(self):\n",
    "        return f'Container({self.container_id} , {self.is_required=}, {self.density=}, {self.container_type=}, {self.weight=}, {self.occupied_volume_percentage=}, {self.occupied_volume=})'\n",
    "\n",
    "\n",
    "class LotOfLuggage:  # class for the luggage, a type of shipment\n",
    "\n",
    "    def __init__(self, first_class_luggage, nb_luggage, avg_weight, container_type, number_of_luggage_by_container):\n",
    "        self.number_of_luggage_per_container = number_of_luggage_by_container\n",
    "        self.avg_weight = avg_weight\n",
    "        self.container_type = container_type\n",
    "        self.containers = LotOfLuggage.split_luggage_into_containers(\n",
    "            nb_luggage - first_class_luggage, avg_weight, container_type, number_of_luggage_by_container\n",
    "        ) + LotOfLuggage.split_luggage_into_containers(\n",
    "            first_class_luggage, avg_weight, container_type, number_of_luggage_by_container\n",
    "        )\n",
    "        self.total_weight = sum([container.weight for container in self.containers])\n",
    "\n",
    "    @staticmethod\n",
    "    def split_luggage_into_containers(nb_luggage, avg_weight, container_type, number_of_luggage_by_container):\n",
    "        number_of_containers = int(nb_luggage / number_of_luggage_by_container)\n",
    "        remaining_luggage = nb_luggage % number_of_luggage_by_container\n",
    "        containers = []\n",
    "        for _ in range(number_of_containers):\n",
    "            container = Container(container_type, is_required=True)\n",
    "            container.weight = avg_weight * number_of_luggage_by_container\n",
    "            container.occupied_volume = container.container_type.volume\n",
    "            container.occupied_volume_percentage = 1\n",
    "            container.density = container.weight / container.container_type.volume\n",
    "            container.nb_luggage = number_of_luggage_by_container\n",
    "            containers.append(container)\n",
    "        if remaining_luggage > 0:\n",
    "            container = Container(container_type)\n",
    "            container.weight = avg_weight * remaining_luggage\n",
    "            container.occupied_volume = container.container_type.volume * (\n",
    "                    remaining_luggage / number_of_luggage_by_container)\n",
    "            container.occupied_volume_percentage = container.occupied_volume / container.container_type.volume\n",
    "            container.density = container.weight / container.container_type.volume\n",
    "            container.nb_luggage = remaining_luggage\n",
    "            containers.append(container)\n",
    "        return containers\n",
    "\n"
   ],
   "metadata": {
    "collapsed": false
   }
  },
  {
   "cell_type": "markdown",
   "source": [
    "# Create functions to call the API"
   ],
   "metadata": {
    "collapsed": false
   }
  },
  {
   "cell_type": "code",
   "execution_count": 196,
   "outputs": [],
   "source": [
    "\n",
    "import base64\n",
    "import requests\n",
    "\n",
    "\n",
    "def get_compartments():\n",
    "    \"\"\"Get all compartments from API.\"\"\"\n",
    "    response = requests.get(\"https://af-cargo-api-cargo.azuremicroservices.io/api/compartment\").json()\n",
    "    return [Compartment(compartment[\"compartmentId\"], compartment[\"maxWeight\"]) for compartment in response]\n",
    "\n",
    "\n",
    "def get_container_types():\n",
    "    \"\"\"Get all container types from API.\"\"\"\n",
    "    response = requests.get(\"https://af-cargo-api-cargo.azuremicroservices.io/api/container\")\n",
    "    return [ContainerType(container_type[\"type\"],\n",
    "                          container_type[\"height\"],\n",
    "                          container_type[\"width\"],\n",
    "                          container_type[\"length\"],\n",
    "                          DEFAULT_CONTAINER_MAX_WEIGHT[container_type[\"type\"]],\n",
    "                          DEFAULT_CONTAINER_TARE_WEIGHT[container_type[\"type\"]])\n",
    "            for container_type\n",
    "            in response.json()]\n",
    "\n",
    "\n",
    "def get_shipments():\n",
    "    \"\"\"Get all shipments from API.\"\"\"\n",
    "    response = requests.get(\"https://af-cargo-api-cargo.azuremicroservices.io/api/shipment\")\n",
    "    return [Shipment(shipment[\"weight\"], shipment[\"height\"], shipment[\"width\"], shipment[\"length\"], shipment[\"awb\"],\n",
    "                     shipment[\"id\"]) for\n",
    "            shipment in response.json()]\n",
    "\n",
    "\n",
    "def get_luggage():\n",
    "    \"\"\"Get all shipments from API.\"\"\"\n",
    "    response = requests.get(\"https://af-cargo-api-cargo.azuremicroservices.io/api/luggage\").json()\n",
    "    return LotOfLuggage(response[\"nbFirstClassLuggage\"], response[\"nbLuggage\"], response[\"avgWeight\"],\n",
    "                        list(filter(lambda x: x.container_type == DEFAULT_LUGGAGE_CONTAINER, get_container_types()))[0],\n",
    "                        DEFAULT_NB_LUGGAGE_PER_CONTAINER)\n",
    "\n",
    "\n",
    "def submit_solution(solution):\n",
    "    \"\"\"Submit solution to API.\"\"\"\n",
    "    response = requests.post(\"https://af-cargo-api-cargo.azuremicroservices.io/api/submit\", json=solution)\n",
    "    return response.json()\n",
    "\n",
    "\n",
    "def get_graph(solution):\n",
    "    \"\"\"Get graph from API as a base64 image and write it to output.png\"\"\"\n",
    "    response = requests.post(\"http://localhost:8081/api/graph\", json=solution)\n",
    "\n",
    "    print(response.json())\n",
    "    g = open(\"output.png\", \"wb\")\n",
    "    g.write(base64.b64decode(response.json()[\"graph.png\"]))\n",
    "    g.close()\n",
    "\n"
   ],
   "metadata": {
    "collapsed": false
   }
  },
  {
   "cell_type": "markdown",
   "source": [
    "# Get the shipments"
   ],
   "metadata": {
    "collapsed": false
   }
  },
  {
   "cell_type": "code",
   "execution_count": 197,
   "outputs": [],
   "source": [
    "# Get all shipments\n",
    "shipments = get_shipments()\n",
    "# Get all container types\n",
    "container_types: [ContainerType] = get_container_types()"
   ],
   "metadata": {
    "collapsed": false
   }
  },
  {
   "cell_type": "markdown",
   "source": [
    "# Sort the shipments\n",
    "- To sort the shipments we first put each shipment into the smallest container type it will fit in\n",
    "- Then we sort the shipment by density in each container type"
   ],
   "metadata": {
    "collapsed": false
   }
  },
  {
   "cell_type": "code",
   "execution_count": 198,
   "outputs": [],
   "source": [
    "from typing import List\n",
    "\n",
    "\n",
    "def sort_shipments(_shipments: List[Shipment], _container_types: List[ContainerType]):\n",
    "    \"\"\"Sort shipments by size and density, to place them more effectively\"\"\"\n",
    "    shipments_dict = {}\n",
    "\n",
    "    container_types.sort(key=lambda x: x.height * x.width * x.length)\n",
    "    # test if the shipments fit in the AKE, else, put them in PAG or PMC\n",
    "    for shipment in _shipments:\n",
    "        for container_type in _container_types:\n",
    "            if shipment.width <= container_type.width and shipment.height <= container_type.height and shipment.length <= container_type.length and shipment.weight <= (\n",
    "                    container_type.max_weight - container_type.tare_weight):\n",
    "                if container_type in shipments_dict:\n",
    "                    shipments_dict[container_type].append(shipment)\n",
    "                else:\n",
    "                    shipments_dict[container_type] = [shipment]\n",
    "                break\n",
    "    # sort shipments by density\n",
    "    for container_type in shipments_dict:\n",
    "        shipments_dict[container_type].sort(\n",
    "            key=lambda _shipment: _shipment.density, reverse=True)\n",
    "\n",
    "    return shipments_dict\n",
    "\n",
    "\n",
    "sorted_shipments = sort_shipments(shipments, container_types)"
   ],
   "metadata": {
    "collapsed": false
   }
  },
  {
   "cell_type": "markdown",
   "source": [
    "# Split the sorted shipments by containers\n",
    "We now know which shipment will fit in each container type. As we sorted the shipments by density the step before it allows us to have a lot of variation in terms of density as we create the containers"
   ],
   "metadata": {
    "collapsed": false
   }
  },
  {
   "cell_type": "code",
   "execution_count": 199,
   "outputs": [],
   "source": [
    "VOLUME_MAX_PERCENTAGE = 0.9\n",
    "\n",
    "\n",
    "def split_shipments_by_containers(_shipments: List[Shipment], _container_types: List[ContainerType]):\n",
    "    \"\"\"Split _shipments by container types.\"\"\"\n",
    "    shipments_dict = sort_shipments(_shipments, _container_types)\n",
    "    container_dict = {}\n",
    "\n",
    "    for container_type in shipments_dict:\n",
    "        container_dict[container_type] = []\n",
    "        current_container = Container(container_type)\n",
    "        container_dict[container_type].append(current_container)\n",
    "        for shipment in shipments_dict[container_type]:\n",
    "            if current_container.occupied_volume + shipment.volume > container_type.volume * VOLUME_MAX_PERCENTAGE or current_container.weight + shipment.weight > container_type.max_weight:\n",
    "                current_container = Container(container_type)\n",
    "                current_container.add_shipment(shipment)\n",
    "                container_dict[container_type].append(current_container)\n",
    "            else:\n",
    "                current_container.add_shipment(shipment)\n",
    "    return container_dict\n",
    "\n",
    "\n",
    "containers = split_shipments_by_containers(shipments, container_types)\n"
   ],
   "metadata": {
    "collapsed": false
   }
  },
  {
   "cell_type": "markdown",
   "source": [
    "# luggage\n",
    "The luggage is mandatory. So we first check its density to see if we need to put the luggage in FWD or AFT. We also need to extract the heaviest luggage to put in the 5th compartment"
   ],
   "metadata": {
    "collapsed": false
   }
  },
  {
   "cell_type": "code",
   "execution_count": 200,
   "outputs": [],
   "source": [
    "luggage = get_luggage()\n",
    "luggage_weight = sum(map(lambda x: x.weight, luggage.containers))\n",
    "# get the heaviest luggage container\n",
    "heaviest_luggage_container = max(luggage.containers, key=lambda x: x.weight)\n",
    "# remove the heaviest luggage container from the list\n",
    "luggage.containers.remove(heaviest_luggage_container)\n",
    "\n",
    "# check if the sum of the weight of number of luggage containers of the shipments containers\n",
    "sum_of_the_weight_shipments = sum(map(lambda x: x.weight,\n",
    "                                      sorted(shipments, key=lambda x: x.weight, reverse=True)[\n",
    "                                      :len(luggage.containers) + 1]))\n",
    "luggage_position = \"FWD\"\n",
    "if sum_of_the_weight_shipments < luggage_weight:\n",
    "    luggage_position = \"AFT\"\n",
    "\n"
   ],
   "metadata": {
    "collapsed": false
   }
  },
  {
   "cell_type": "markdown",
   "source": [
    "# Removing the possible combination of PMC,PAG,AKE\n",
    "As the luggage is mandatory we need to remove the impossible combinations from the combination list and update the max weight of the compartments"
   ],
   "metadata": {
    "collapsed": false
   }
  },
  {
   "cell_type": "code",
   "execution_count": 201,
   "outputs": [],
   "source": [
    "container_combinations = {\n",
    "    \"FWD\": [],\n",
    "    \"AFT\": [],\n",
    "}\n",
    "for combination_position in DEFAULT_CONTAINER_COMBINATIONS:\n",
    "    if combination_position == luggage_position:\n",
    "        for combination in DEFAULT_CONTAINER_COMBINATIONS[combination_position]:\n",
    "            combination[\"AKE\"] -= len(luggage.containers)\n",
    "            if combination[\"AKE\"] >= 0:\n",
    "                container_combinations[combination_position].append(combination)\n",
    "    else:\n",
    "        for combination in DEFAULT_CONTAINER_COMBINATIONS[combination_position]:\n",
    "            container_combinations[combination_position].append(combination)\n",
    "\n",
    "compartments_max_weight = {}\n",
    "\n",
    "for compartment_position in DEFAULT_COMPARTMENTS_MAX_WEIGHT:\n",
    "    if compartment_position == luggage_position:\n",
    "        compartments_max_weight[compartment_position] = DEFAULT_COMPARTMENTS_MAX_WEIGHT[\n",
    "                                                            compartment_position] - luggage.total_weight\n",
    "    else:\n",
    "        compartments_max_weight[compartment_position] = DEFAULT_COMPARTMENTS_MAX_WEIGHT[compartment_position]\n"
   ],
   "metadata": {
    "collapsed": false
   }
  },
  {
   "cell_type": "markdown",
   "source": [
    "#"
   ],
   "metadata": {
    "collapsed": false
   }
  },
  {
   "cell_type": "code",
   "execution_count": 202,
   "outputs": [],
   "source": [
    "from typing import Dict\n",
    "from tqdm import tqdm\n",
    "import random\n",
    "\n",
    "\n",
    "def find_best_container_combination(container_dict_copy: Dict[ContainerType, List[Container]],\n",
    "                                    combinations: [Dict[str, int]],\n",
    "                                    weight_target: float,\n",
    "                                    number_of_tries: int):\n",
    "    \"\"\"Find the best container combination for a compartment_position.\"\"\"\n",
    "\n",
    "    def try_combination():\n",
    "        _best_combination = None\n",
    "        _curr_max = float('-inf')\n",
    "        # find calculate the max weight of each combination\n",
    "        for _combination in combinations:\n",
    "            weight = 0\n",
    "            current_containers = {}\n",
    "            for _container_type in container_dict_copy.keys():\n",
    "                if len(container_dict_copy[_container_type]) >= _combination[_container_type.container_type]:\n",
    "                    sampled_containers = random.sample(container_dict_copy[_container_type],\n",
    "                                                       _combination[_container_type.container_type])\n",
    "                else:\n",
    "                    sampled_containers = container_dict_copy[_container_type]\n",
    "                weight += sum([_container.weight for _container in sampled_containers])\n",
    "                current_containers[_container_type] = sampled_containers\n",
    "\n",
    "            current_containers[\"max_weight\"] = weight\n",
    "            if weight_target > current_containers[\"max_weight\"] > _curr_max:\n",
    "                _curr_max = current_containers[\"max_weight\"]\n",
    "                _best_combination = current_containers\n",
    "        return _best_combination\n",
    "\n",
    "    # find the best combination closest to the target without exceeding it\n",
    "    best_combination = None\n",
    "    curr_max = float('-inf')\n",
    "    for _ in range(number_of_tries):\n",
    "        combination = try_combination()\n",
    "        if combination:\n",
    "            if curr_max < combination[\"max_weight\"] <= weight_target:\n",
    "                curr_max = combination[\"max_weight\"]\n",
    "                best_combination = combination\n",
    "    containers_index = {}\n",
    "    for container_type in best_combination:\n",
    "        if container_type != \"max_weight\":\n",
    "            containers_index[container_type] = []\n",
    "            for container in best_combination[container_type]:\n",
    "                containers_index[container_type].append(container_dict_copy[container_type].index(container))\n",
    "    return best_combination, containers_index\n"
   ],
   "metadata": {
    "collapsed": false
   }
  },
  {
   "cell_type": "code",
   "execution_count": 203,
   "outputs": [
    {
     "name": "stdout",
     "output_type": "stream",
     "text": [
      "Target weight: 25655\n",
      "AFT weight: 23983.7\n"
     ]
    }
   ],
   "source": [
    "\n",
    "result = find_best_container_combination(containers, container_combinations[\"AFT\"], compartments_max_weight[\"AFT\"],\n",
    "                                         50000)\n",
    "print(\"Target weight: {}\".format(compartments_max_weight[\"AFT\"]))\n",
    "print(\"AFT weight: {}\".format(result[0]['max_weight']))\n"
   ],
   "metadata": {
    "collapsed": false
   }
  },
  {
   "cell_type": "markdown",
   "source": [
    "blabla"
   ],
   "metadata": {
    "collapsed": false
   }
  },
  {
   "cell_type": "code",
   "execution_count": null,
   "outputs": [
    {
     "name": "stderr",
     "output_type": "stream",
     "text": [
      " 96%|█████████▌| 48/50 [01:43<00:24, 12.07s/it]"
     ]
    }
   ],
   "source": [
    "import statistics\n",
    "from matplotlib import pyplot as plt\n",
    "import numpy as np\n",
    "\n",
    "NUMBER_OF_SAMPLE = 50\n",
    "x = []\n",
    "y = []\n",
    "y_best = []\n",
    "y_error = []\n",
    "\n",
    "\n",
    "def powspace(start: float, stop: float, num: int):\n",
    "    log_start, log_stop = np.log(start), np.log(stop)\n",
    "    return np.exp(np.linspace(log_start, log_stop, num))\n",
    "\n",
    "\n",
    "for number_of_tries in tqdm(powspace(1, 6000, 50)):\n",
    "    x.append(number_of_tries)\n",
    "    values = []\n",
    "    for k in range(NUMBER_OF_SAMPLE):\n",
    "        values.append(\n",
    "            find_best_container_combination(containers, container_combinations[\"AFT\"], compartments_max_weight[\"AFT\"],\n",
    "                                            int(number_of_tries))[0]['max_weight'])\n",
    "\n",
    "    y.append(statistics.mean(values))\n",
    "    y_error.append(statistics.stdev(values))\n",
    "    y_best.append(25655)\n"
   ],
   "metadata": {
    "collapsed": false,
    "pycharm": {
     "is_executing": true
    }
   }
  },
  {
   "cell_type": "code",
   "execution_count": 220,
   "outputs": [
    {
     "data": {
      "text/plain": "<Figure size 640x480 with 1 Axes>",
      "image/png": "[encoded data removed]"
     },
     "metadata": {},
     "output_type": "display_data"
    }
   ],
   "source": [
    "plt.plot(x, y)\n",
    "plt.plot(x, y_best, \"--c\")\n",
    "plt.ylim((15000, 27500))\n",
    "plt.xlabel(\"Number of tries\")\n",
    "plt.ylabel(\"Weight placed\")\n",
    "plt.show()"
   ],
   "metadata": {
    "collapsed": false
   }
  },
  {
   "cell_type": "code",
   "execution_count": 223,
   "outputs": [
    {
     "data": {
      "text/plain": "<Figure size 640x480 with 1 Axes>",
      "image/png": "[encoded data removed]"
     },
     "metadata": {},
     "output_type": "display_data"
    }
   ],
   "source": [
    "plt.plot(x, y_error, \"red\")\n",
    "plt.xlabel(\"Number of tries\")\n",
    "plt.ylabel(\"Weight placed\")\n",
    "plt.show()"
   ],
   "metadata": {
    "collapsed": false
   }
  },
  {
   "cell_type": "markdown",
   "source": [],
   "metadata": {
    "collapsed": false
   }
  }
 ],
 "metadata": {
  "kernelspec": {
   "display_name": "Python 3",
   "language": "python",
   "name": "python3"
  },
  "language_info": {
   "codemirror_mode": {
    "name": "ipython",
    "version": 2
   },
   "file_extension": ".py",
   "mimetype": "text/x-python",
   "name": "python",
   "nbconvert_exporter": "python",
   "pygments_lexer": "ipython2",
   "version": "2.7.6"
  }
 },
 "nbformat": 4,
 "nbformat_minor": 0
}
